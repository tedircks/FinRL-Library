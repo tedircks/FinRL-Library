{
 "cells": [
  {
   "cell_type": "markdown",
   "metadata": {
    "colab_type": "text",
    "id": "view-in-github"
   },
   "source": [
    "<a href=\"https://colab.research.google.com/github/AI4Finance-LLC/FinRL-Library/blob/master/FinRL_multiple_stock_trading.ipynb\" target=\"_parent\"><img src=\"https://colab.research.google.com/assets/colab-badge.svg\" alt=\"Open In Colab\"/></a>"
   ]
  },
  {
   "cell_type": "markdown",
   "metadata": {
    "id": "gXaoZs2lh1hi"
   },
   "source": [
    "# Deep Reinforcement Learning for Stock Trading from Scratch: Multiple Stock Trading\n",
    "\n",
    "Tutorials to use OpenAI DRL to trade multiple stocks in one Jupyter Notebook | Presented at Deep RL Workshop, NeurIPS 2020.\n",
    "\n",
    "* This blog is based on our paper: FinRL: A Deep Reinforcement Learning Library for Automated Stock Trading in Quantitative Finance, presented at NeurIPS 2020: Deep RL Workshop.\n",
    "* Check out medium blog for detailed explanations: https://towardsdatascience.com/finrl-for-quantitative-finance-tutorial-for-multiple-stock-trading-7b00763b7530\n",
    "* Please report any issues to our Github: https://github.com/AI4Finance-LLC/FinRL-Library/issues\n",
    "* **Pytorch Version** \n",
    "\n"
   ]
  },
  {
   "cell_type": "markdown",
   "metadata": {
    "id": "lGunVt8oLCVS"
   },
   "source": [
    "# Content"
   ]
  },
  {
   "cell_type": "markdown",
   "metadata": {
    "id": "HOzAKQ-SLGX6"
   },
   "source": [
    "* [1. Problem Definition](#0)\n",
    "* [2. Getting Started - Load Python packages](#1)\n",
    "    * [2.1. Install Packages](#1.1)    \n",
    "    * [2.2. Check Additional Packages](#1.2)\n",
    "    * [2.3. Import Packages](#1.3)\n",
    "    * [2.4. Create Folders](#1.4)\n",
    "* [3. Download Data](#2)\n",
    "* [4. Preprocess Data](#3)        \n",
    "    * [4.1. Technical Indicators](#3.1)\n",
    "    * [4.2. Perform Feature Engineering](#3.2)\n",
    "* [5.Build Environment](#4)  \n",
    "    * [5.1. Training & Trade Data Split](#4.1)\n",
    "    * [5.2. User-defined Environment](#4.2)   \n",
    "    * [5.3. Initialize Environment](#4.3)    \n",
    "* [6.Implement DRL Algorithms](#5)  \n",
    "* [7.Backtesting Performance](#6)  \n",
    "    * [7.1. BackTestStats](#6.1)\n",
    "    * [7.2. BackTestPlot](#6.2)   \n",
    "    * [7.3. Baseline Stats](#6.3)   \n",
    "    * [7.3. Compare to Stock Market Index](#6.4)             "
   ]
  },
  {
   "cell_type": "markdown",
   "metadata": {
    "id": "sApkDlD9LIZv"
   },
   "source": [
    "<a id='0'></a>\n",
    "# Part 1. Problem Definition"
   ]
  },
  {
   "cell_type": "markdown",
   "metadata": {
    "id": "HjLD2TZSLKZ-"
   },
   "source": [
    "This problem is to design an automated trading solution for single stock trading. We model the stock trading process as a Markov Decision Process (MDP). We then formulate our trading goal as a maximization problem.\n",
    "\n",
    "The algorithm is trained using Deep Reinforcement Learning (DRL) algorithms and the components of the reinforcement learning environment are:\n",
    "\n",
    "\n",
    "* Action: The action space describes the allowed actions that the agent interacts with the\n",
    "environment. Normally, a ∈ A includes three actions: a ∈ {−1, 0, 1}, where −1, 0, 1 represent\n",
    "selling, holding, and buying one stock. Also, an action can be carried upon multiple shares. We use\n",
    "an action space {−k, ..., −1, 0, 1, ..., k}, where k denotes the number of shares. For example, \"Buy\n",
    "10 shares of AAPL\" or \"Sell 10 shares of AAPL\" are 10 or −10, respectively\n",
    "\n",
    "* Reward function: r(s, a, s′) is the incentive mechanism for an agent to learn a better action. The change of the portfolio value when action a is taken at state s and arriving at new state s',  i.e., r(s, a, s′) = v′ − v, where v′ and v represent the portfolio\n",
    "values at state s′ and s, respectively\n",
    "\n",
    "* State: The state space describes the observations that the agent receives from the environment. Just as a human trader needs to analyze various information before executing a trade, so\n",
    "our trading agent observes many different features to better learn in an interactive environment.\n",
    "\n",
    "* Environment: Dow 30 consituents\n",
    "\n",
    "\n",
    "The data of the single stock that we will be using for this case study is obtained from Yahoo Finance API. The data contains Open-High-Low-Close price and volume.\n"
   ]
  },
  {
   "cell_type": "markdown",
   "metadata": {
    "id": "Ffsre789LY08"
   },
   "source": [
    "<a id='1'></a>\n",
    "# Part 2. Getting Started- Load Python Packages"
   ]
  },
  {
   "cell_type": "markdown",
   "metadata": {
    "id": "Uy5_PTmOh1hj"
   },
   "source": [
    "<a id='1.1'></a>\n",
    "## 2.1. Install all the packages through FinRL library\n"
   ]
  },
  {
   "cell_type": "code",
   "execution_count": 1,
   "metadata": {
    "colab": {
     "base_uri": "https://localhost:8080/"
    },
    "id": "mPT0ipYE28wL",
    "outputId": "36972c15-9228-48a8-825e-4fe399e5a727"
   },
   "outputs": [
    {
     "name": "stdout",
     "output_type": "stream",
     "text": [
      "Collecting git+https://github.com/AI4Finance-LLC/FinRL-Library.git\n",
      "  Cloning https://github.com/AI4Finance-LLC/FinRL-Library.git to /private/var/folders/w7/0rklp0b14q16x4g3wm0zfj600000gn/T/pip-req-build-krn4xn25\n",
      "Requirement already satisfied: numpy in /Users/dircks/opt/anaconda3/envs/py36/lib/python3.6/site-packages (from finrl==0.0.3) (1.19.5)\n",
      "Requirement already satisfied: pandas in /Users/dircks/opt/anaconda3/envs/py36/lib/python3.6/site-packages (from finrl==0.0.3) (1.1.5)\n",
      "Requirement already satisfied: stockstats in /Users/dircks/opt/anaconda3/envs/py36/lib/python3.6/site-packages (from finrl==0.0.3) (0.3.2)\n",
      "Requirement already satisfied: yfinance in /Users/dircks/opt/anaconda3/envs/py36/lib/python3.6/site-packages (from finrl==0.0.3) (0.1.55)\n",
      "Requirement already satisfied: matplotlib in /Users/dircks/opt/anaconda3/envs/py36/lib/python3.6/site-packages (from finrl==0.0.3) (3.3.3)\n",
      "Requirement already satisfied: scikit-learn>=0.21.0 in /Users/dircks/opt/anaconda3/envs/py36/lib/python3.6/site-packages (from finrl==0.0.3) (0.24.0)\n",
      "Requirement already satisfied: gym>=0.17 in /Users/dircks/opt/anaconda3/envs/py36/lib/python3.6/site-packages (from finrl==0.0.3) (0.18.0)\n",
      "Requirement already satisfied: stable-baselines3[extra] in /Users/dircks/opt/anaconda3/envs/py36/lib/python3.6/site-packages (from finrl==0.0.3) (0.10.0)\n",
      "Requirement already satisfied: pytest in /Users/dircks/opt/anaconda3/envs/py36/lib/python3.6/site-packages (from finrl==0.0.3) (6.2.1)\n",
      "Requirement already satisfied: setuptools>=41.4.0 in /Users/dircks/opt/anaconda3/envs/py36/lib/python3.6/site-packages (from finrl==0.0.3) (51.0.0.post20201207)\n",
      "Requirement already satisfied: wheel>=0.33.6 in /Users/dircks/opt/anaconda3/envs/py36/lib/python3.6/site-packages (from finrl==0.0.3) (0.36.2)\n",
      "Collecting pyfolio@ git+https://github.com/quantopian/pyfolio.git#egg=pyfolio-0.9.2\n",
      "  Cloning https://github.com/quantopian/pyfolio.git to /private/var/folders/w7/0rklp0b14q16x4g3wm0zfj600000gn/T/pip-install-666wtl5f/pyfolio_7ff38c66ebea4339b141d80f5220f76f\n",
      "Requirement already satisfied: ipython>=3.2.3 in /Users/dircks/opt/anaconda3/envs/py36/lib/python3.6/site-packages (from pyfolio@ git+https://github.com/quantopian/pyfolio.git#egg=pyfolio-0.9.2->finrl==0.0.3) (7.16.1)\n",
      "Requirement already satisfied: pytz>=2014.10 in /Users/dircks/opt/anaconda3/envs/py36/lib/python3.6/site-packages (from pyfolio@ git+https://github.com/quantopian/pyfolio.git#egg=pyfolio-0.9.2->finrl==0.0.3) (2020.5)\n",
      "Requirement already satisfied: scipy>=0.14.0 in /Users/dircks/opt/anaconda3/envs/py36/lib/python3.6/site-packages (from pyfolio@ git+https://github.com/quantopian/pyfolio.git#egg=pyfolio-0.9.2->finrl==0.0.3) (1.5.4)\n",
      "Requirement already satisfied: seaborn>=0.7.1 in /Users/dircks/opt/anaconda3/envs/py36/lib/python3.6/site-packages (from pyfolio@ git+https://github.com/quantopian/pyfolio.git#egg=pyfolio-0.9.2->finrl==0.0.3) (0.11.1)\n",
      "Requirement already satisfied: empyrical>=0.5.0 in /Users/dircks/opt/anaconda3/envs/py36/lib/python3.6/site-packages (from pyfolio@ git+https://github.com/quantopian/pyfolio.git#egg=pyfolio-0.9.2->finrl==0.0.3) (0.5.5)\n",
      "Requirement already satisfied: pandas-datareader>=0.2 in /Users/dircks/opt/anaconda3/envs/py36/lib/python3.6/site-packages (from empyrical>=0.5.0->pyfolio@ git+https://github.com/quantopian/pyfolio.git#egg=pyfolio-0.9.2->finrl==0.0.3) (0.9.0)\n",
      "Requirement already satisfied: pyglet<=1.5.0,>=1.4.0 in /Users/dircks/opt/anaconda3/envs/py36/lib/python3.6/site-packages (from gym>=0.17->finrl==0.0.3) (1.5.0)\n",
      "Requirement already satisfied: cloudpickle<1.7.0,>=1.2.0 in /Users/dircks/opt/anaconda3/envs/py36/lib/python3.6/site-packages (from gym>=0.17->finrl==0.0.3) (1.6.0)\n",
      "Requirement already satisfied: Pillow<=7.2.0 in /Users/dircks/opt/anaconda3/envs/py36/lib/python3.6/site-packages (from gym>=0.17->finrl==0.0.3) (7.2.0)\n",
      "Requirement already satisfied: appnope in /Users/dircks/opt/anaconda3/envs/py36/lib/python3.6/site-packages (from ipython>=3.2.3->pyfolio@ git+https://github.com/quantopian/pyfolio.git#egg=pyfolio-0.9.2->finrl==0.0.3) (0.1.2)\n",
      "Requirement already satisfied: jedi>=0.10 in /Users/dircks/opt/anaconda3/envs/py36/lib/python3.6/site-packages (from ipython>=3.2.3->pyfolio@ git+https://github.com/quantopian/pyfolio.git#egg=pyfolio-0.9.2->finrl==0.0.3) (0.18.0)\n",
      "Requirement already satisfied: prompt-toolkit!=3.0.0,!=3.0.1,<3.1.0,>=2.0.0 in /Users/dircks/opt/anaconda3/envs/py36/lib/python3.6/site-packages (from ipython>=3.2.3->pyfolio@ git+https://github.com/quantopian/pyfolio.git#egg=pyfolio-0.9.2->finrl==0.0.3) (3.0.8)\n",
      "Requirement already satisfied: decorator in /Users/dircks/opt/anaconda3/envs/py36/lib/python3.6/site-packages (from ipython>=3.2.3->pyfolio@ git+https://github.com/quantopian/pyfolio.git#egg=pyfolio-0.9.2->finrl==0.0.3) (4.4.2)\n",
      "Requirement already satisfied: traitlets>=4.2 in /Users/dircks/opt/anaconda3/envs/py36/lib/python3.6/site-packages (from ipython>=3.2.3->pyfolio@ git+https://github.com/quantopian/pyfolio.git#egg=pyfolio-0.9.2->finrl==0.0.3) (4.3.3)\n",
      "Requirement already satisfied: pickleshare in /Users/dircks/opt/anaconda3/envs/py36/lib/python3.6/site-packages (from ipython>=3.2.3->pyfolio@ git+https://github.com/quantopian/pyfolio.git#egg=pyfolio-0.9.2->finrl==0.0.3) (0.7.5)\n",
      "Requirement already satisfied: pygments in /Users/dircks/opt/anaconda3/envs/py36/lib/python3.6/site-packages (from ipython>=3.2.3->pyfolio@ git+https://github.com/quantopian/pyfolio.git#egg=pyfolio-0.9.2->finrl==0.0.3) (2.7.3)\n",
      "Requirement already satisfied: pexpect in /Users/dircks/opt/anaconda3/envs/py36/lib/python3.6/site-packages (from ipython>=3.2.3->pyfolio@ git+https://github.com/quantopian/pyfolio.git#egg=pyfolio-0.9.2->finrl==0.0.3) (4.8.0)\n",
      "Requirement already satisfied: backcall in /Users/dircks/opt/anaconda3/envs/py36/lib/python3.6/site-packages (from ipython>=3.2.3->pyfolio@ git+https://github.com/quantopian/pyfolio.git#egg=pyfolio-0.9.2->finrl==0.0.3) (0.2.0)\n",
      "Requirement already satisfied: parso<0.9.0,>=0.8.0 in /Users/dircks/opt/anaconda3/envs/py36/lib/python3.6/site-packages (from jedi>=0.10->ipython>=3.2.3->pyfolio@ git+https://github.com/quantopian/pyfolio.git#egg=pyfolio-0.9.2->finrl==0.0.3) (0.8.1)\n",
      "Requirement already satisfied: python-dateutil>=2.1 in /Users/dircks/opt/anaconda3/envs/py36/lib/python3.6/site-packages (from matplotlib->finrl==0.0.3) (2.8.1)\n",
      "Requirement already satisfied: pyparsing!=2.0.4,!=2.1.2,!=2.1.6,>=2.0.3 in /Users/dircks/opt/anaconda3/envs/py36/lib/python3.6/site-packages (from matplotlib->finrl==0.0.3) (2.4.7)\n",
      "Requirement already satisfied: cycler>=0.10 in /Users/dircks/opt/anaconda3/envs/py36/lib/python3.6/site-packages (from matplotlib->finrl==0.0.3) (0.10.0)\n",
      "Requirement already satisfied: kiwisolver>=1.0.1 in /Users/dircks/opt/anaconda3/envs/py36/lib/python3.6/site-packages (from matplotlib->finrl==0.0.3) (1.3.1)\n",
      "Requirement already satisfied: six in /Users/dircks/opt/anaconda3/envs/py36/lib/python3.6/site-packages (from cycler>=0.10->matplotlib->finrl==0.0.3) (1.15.0)\n",
      "Requirement already satisfied: requests>=2.19.0 in /Users/dircks/opt/anaconda3/envs/py36/lib/python3.6/site-packages (from pandas-datareader>=0.2->empyrical>=0.5.0->pyfolio@ git+https://github.com/quantopian/pyfolio.git#egg=pyfolio-0.9.2->finrl==0.0.3) (2.25.1)\n",
      "Requirement already satisfied: lxml in /Users/dircks/opt/anaconda3/envs/py36/lib/python3.6/site-packages (from pandas-datareader>=0.2->empyrical>=0.5.0->pyfolio@ git+https://github.com/quantopian/pyfolio.git#egg=pyfolio-0.9.2->finrl==0.0.3) (4.6.2)\n",
      "Requirement already satisfied: wcwidth in /Users/dircks/opt/anaconda3/envs/py36/lib/python3.6/site-packages (from prompt-toolkit!=3.0.0,!=3.0.1,<3.1.0,>=2.0.0->ipython>=3.2.3->pyfolio@ git+https://github.com/quantopian/pyfolio.git#egg=pyfolio-0.9.2->finrl==0.0.3) (0.2.5)\n",
      "Requirement already satisfied: future in /Users/dircks/opt/anaconda3/envs/py36/lib/python3.6/site-packages (from pyglet<=1.5.0,>=1.4.0->gym>=0.17->finrl==0.0.3) (0.18.2)\n",
      "Requirement already satisfied: certifi>=2017.4.17 in /Users/dircks/opt/anaconda3/envs/py36/lib/python3.6/site-packages (from requests>=2.19.0->pandas-datareader>=0.2->empyrical>=0.5.0->pyfolio@ git+https://github.com/quantopian/pyfolio.git#egg=pyfolio-0.9.2->finrl==0.0.3) (2020.12.5)\n",
      "Requirement already satisfied: urllib3<1.27,>=1.21.1 in /Users/dircks/opt/anaconda3/envs/py36/lib/python3.6/site-packages (from requests>=2.19.0->pandas-datareader>=0.2->empyrical>=0.5.0->pyfolio@ git+https://github.com/quantopian/pyfolio.git#egg=pyfolio-0.9.2->finrl==0.0.3) (1.26.2)\n",
      "Requirement already satisfied: chardet<5,>=3.0.2 in /Users/dircks/opt/anaconda3/envs/py36/lib/python3.6/site-packages (from requests>=2.19.0->pandas-datareader>=0.2->empyrical>=0.5.0->pyfolio@ git+https://github.com/quantopian/pyfolio.git#egg=pyfolio-0.9.2->finrl==0.0.3) (4.0.0)\n",
      "Requirement already satisfied: idna<3,>=2.5 in /Users/dircks/opt/anaconda3/envs/py36/lib/python3.6/site-packages (from requests>=2.19.0->pandas-datareader>=0.2->empyrical>=0.5.0->pyfolio@ git+https://github.com/quantopian/pyfolio.git#egg=pyfolio-0.9.2->finrl==0.0.3) (2.10)\n"
     ]
    },
    {
     "name": "stdout",
     "output_type": "stream",
     "text": [
      "Requirement already satisfied: joblib>=0.11 in /Users/dircks/opt/anaconda3/envs/py36/lib/python3.6/site-packages (from scikit-learn>=0.21.0->finrl==0.0.3) (1.0.0)\n",
      "Requirement already satisfied: threadpoolctl>=2.0.0 in /Users/dircks/opt/anaconda3/envs/py36/lib/python3.6/site-packages (from scikit-learn>=0.21.0->finrl==0.0.3) (2.1.0)\n",
      "Requirement already satisfied: ipython-genutils in /Users/dircks/opt/anaconda3/envs/py36/lib/python3.6/site-packages (from traitlets>=4.2->ipython>=3.2.3->pyfolio@ git+https://github.com/quantopian/pyfolio.git#egg=pyfolio-0.9.2->finrl==0.0.3) (0.2.0)\n",
      "Requirement already satisfied: ptyprocess>=0.5 in /Users/dircks/opt/anaconda3/envs/py36/lib/python3.6/site-packages (from pexpect->ipython>=3.2.3->pyfolio@ git+https://github.com/quantopian/pyfolio.git#egg=pyfolio-0.9.2->finrl==0.0.3) (0.7.0)\n",
      "Requirement already satisfied: pluggy<1.0.0a1,>=0.12 in /Users/dircks/opt/anaconda3/envs/py36/lib/python3.6/site-packages (from pytest->finrl==0.0.3) (0.13.1)\n",
      "Requirement already satisfied: iniconfig in /Users/dircks/opt/anaconda3/envs/py36/lib/python3.6/site-packages (from pytest->finrl==0.0.3) (1.1.1)\n",
      "Requirement already satisfied: importlib-metadata>=0.12 in /Users/dircks/opt/anaconda3/envs/py36/lib/python3.6/site-packages (from pytest->finrl==0.0.3) (2.0.0)\n",
      "Requirement already satisfied: packaging in /Users/dircks/opt/anaconda3/envs/py36/lib/python3.6/site-packages (from pytest->finrl==0.0.3) (20.8)\n",
      "Requirement already satisfied: attrs>=19.2.0 in /Users/dircks/opt/anaconda3/envs/py36/lib/python3.6/site-packages (from pytest->finrl==0.0.3) (20.3.0)\n",
      "Requirement already satisfied: py>=1.8.2 in /Users/dircks/opt/anaconda3/envs/py36/lib/python3.6/site-packages (from pytest->finrl==0.0.3) (1.10.0)\n",
      "Requirement already satisfied: toml in /Users/dircks/opt/anaconda3/envs/py36/lib/python3.6/site-packages (from pytest->finrl==0.0.3) (0.10.2)\n",
      "Requirement already satisfied: zipp>=0.5 in /Users/dircks/opt/anaconda3/envs/py36/lib/python3.6/site-packages (from importlib-metadata>=0.12->pytest->finrl==0.0.3) (3.4.0)\n",
      "Requirement already satisfied: torch>=1.4.0 in /Users/dircks/opt/anaconda3/envs/py36/lib/python3.6/site-packages (from stable-baselines3[extra]->finrl==0.0.3) (1.7.1)\n",
      "Requirement already satisfied: tensorboard in /Users/dircks/opt/anaconda3/envs/py36/lib/python3.6/site-packages (from stable-baselines3[extra]->finrl==0.0.3) (2.4.0)\n",
      "Requirement already satisfied: opencv-python in /Users/dircks/opt/anaconda3/envs/py36/lib/python3.6/site-packages (from stable-baselines3[extra]->finrl==0.0.3) (4.5.1.48)\n",
      "Requirement already satisfied: psutil in /Users/dircks/opt/anaconda3/envs/py36/lib/python3.6/site-packages (from stable-baselines3[extra]->finrl==0.0.3) (5.8.0)\n",
      "Requirement already satisfied: atari-py~=0.2.0 in /Users/dircks/opt/anaconda3/envs/py36/lib/python3.6/site-packages (from stable-baselines3[extra]->finrl==0.0.3) (0.2.6)\n",
      "Requirement already satisfied: typing-extensions in /Users/dircks/opt/anaconda3/envs/py36/lib/python3.6/site-packages (from torch>=1.4.0->stable-baselines3[extra]->finrl==0.0.3) (3.7.4.3)\n",
      "Requirement already satisfied: dataclasses in /Users/dircks/opt/anaconda3/envs/py36/lib/python3.6/site-packages (from torch>=1.4.0->stable-baselines3[extra]->finrl==0.0.3) (0.8)\n",
      "Requirement already satisfied: int-date>=0.1.7 in /Users/dircks/opt/anaconda3/envs/py36/lib/python3.6/site-packages (from stockstats->finrl==0.0.3) (0.1.8)\n",
      "Requirement already satisfied: absl-py>=0.4 in /Users/dircks/opt/anaconda3/envs/py36/lib/python3.6/site-packages (from tensorboard->stable-baselines3[extra]->finrl==0.0.3) (0.11.0)\n",
      "Requirement already satisfied: google-auth<2,>=1.6.3 in /Users/dircks/opt/anaconda3/envs/py36/lib/python3.6/site-packages (from tensorboard->stable-baselines3[extra]->finrl==0.0.3) (1.24.0)\n",
      "Requirement already satisfied: markdown>=2.6.8 in /Users/dircks/opt/anaconda3/envs/py36/lib/python3.6/site-packages (from tensorboard->stable-baselines3[extra]->finrl==0.0.3) (3.3.3)\n",
      "Requirement already satisfied: google-auth-oauthlib<0.5,>=0.4.1 in /Users/dircks/opt/anaconda3/envs/py36/lib/python3.6/site-packages (from tensorboard->stable-baselines3[extra]->finrl==0.0.3) (0.4.2)\n",
      "Requirement already satisfied: grpcio>=1.24.3 in /Users/dircks/opt/anaconda3/envs/py36/lib/python3.6/site-packages (from tensorboard->stable-baselines3[extra]->finrl==0.0.3) (1.34.0)\n",
      "Requirement already satisfied: werkzeug>=0.11.15 in /Users/dircks/opt/anaconda3/envs/py36/lib/python3.6/site-packages (from tensorboard->stable-baselines3[extra]->finrl==0.0.3) (1.0.1)\n",
      "Requirement already satisfied: protobuf>=3.6.0 in /Users/dircks/opt/anaconda3/envs/py36/lib/python3.6/site-packages (from tensorboard->stable-baselines3[extra]->finrl==0.0.3) (3.14.0)\n",
      "Requirement already satisfied: tensorboard-plugin-wit>=1.6.0 in /Users/dircks/opt/anaconda3/envs/py36/lib/python3.6/site-packages (from tensorboard->stable-baselines3[extra]->finrl==0.0.3) (1.7.0)\n",
      "Requirement already satisfied: pyasn1-modules>=0.2.1 in /Users/dircks/opt/anaconda3/envs/py36/lib/python3.6/site-packages (from google-auth<2,>=1.6.3->tensorboard->stable-baselines3[extra]->finrl==0.0.3) (0.2.8)\n",
      "Requirement already satisfied: rsa<5,>=3.1.4 in /Users/dircks/opt/anaconda3/envs/py36/lib/python3.6/site-packages (from google-auth<2,>=1.6.3->tensorboard->stable-baselines3[extra]->finrl==0.0.3) (4.6)\n",
      "Requirement already satisfied: cachetools<5.0,>=2.0.0 in /Users/dircks/opt/anaconda3/envs/py36/lib/python3.6/site-packages (from google-auth<2,>=1.6.3->tensorboard->stable-baselines3[extra]->finrl==0.0.3) (4.2.0)\n",
      "Requirement already satisfied: requests-oauthlib>=0.7.0 in /Users/dircks/opt/anaconda3/envs/py36/lib/python3.6/site-packages (from google-auth-oauthlib<0.5,>=0.4.1->tensorboard->stable-baselines3[extra]->finrl==0.0.3) (1.3.0)\n",
      "Requirement already satisfied: pyasn1<0.5.0,>=0.4.6 in /Users/dircks/opt/anaconda3/envs/py36/lib/python3.6/site-packages (from pyasn1-modules>=0.2.1->google-auth<2,>=1.6.3->tensorboard->stable-baselines3[extra]->finrl==0.0.3) (0.4.8)\n",
      "Requirement already satisfied: oauthlib>=3.0.0 in /Users/dircks/opt/anaconda3/envs/py36/lib/python3.6/site-packages (from requests-oauthlib>=0.7.0->google-auth-oauthlib<0.5,>=0.4.1->tensorboard->stable-baselines3[extra]->finrl==0.0.3) (3.1.0)\n",
      "Requirement already satisfied: multitasking>=0.0.7 in /Users/dircks/opt/anaconda3/envs/py36/lib/python3.6/site-packages (from yfinance->finrl==0.0.3) (0.0.9)\n"
     ]
    }
   ],
   "source": [
    "## install finrl library\n",
    "!pip install git+https://github.com/AI4Finance-LLC/FinRL-Library.git"
   ]
  },
  {
   "cell_type": "markdown",
   "metadata": {
    "id": "osBHhVysOEzi"
   },
   "source": [
    "\n",
    "<a id='1.2'></a>\n",
    "## 2.2. Check if the additional packages needed are present, if not install them. \n",
    "* Yahoo Finance API\n",
    "* pandas\n",
    "* numpy\n",
    "* matplotlib\n",
    "* stockstats\n",
    "* OpenAI gym\n",
    "* stable-baselines\n",
    "* tensorflow\n",
    "* pyfolio"
   ]
  },
  {
   "cell_type": "code",
   "execution_count": 2,
   "metadata": {
    "colab": {
     "base_uri": "https://localhost:8080/"
    },
    "id": "oirvDTJ0h1hk",
    "outputId": "a09d4271-9ddc-4954-aad5-119f2f3c0922"
   },
   "outputs": [
    {
     "name": "stdout",
     "output_type": "stream",
     "text": [
      "Requirement already satisfied: yfinance in /Users/dircks/opt/anaconda3/envs/py36/lib/python3.6/site-packages (0.1.55)\n",
      "Requirement already satisfied: numpy>=1.15 in /Users/dircks/opt/anaconda3/envs/py36/lib/python3.6/site-packages (from yfinance) (1.19.5)\n",
      "Requirement already satisfied: requests>=2.20 in /Users/dircks/opt/anaconda3/envs/py36/lib/python3.6/site-packages (from yfinance) (2.25.1)\n",
      "Requirement already satisfied: pandas>=0.24 in /Users/dircks/opt/anaconda3/envs/py36/lib/python3.6/site-packages (from yfinance) (1.1.5)\n",
      "Requirement already satisfied: multitasking>=0.0.7 in /Users/dircks/opt/anaconda3/envs/py36/lib/python3.6/site-packages (from yfinance) (0.0.9)\n",
      "Requirement already satisfied: lxml>=4.5.1 in /Users/dircks/opt/anaconda3/envs/py36/lib/python3.6/site-packages (from yfinance) (4.6.2)\n",
      "Requirement already satisfied: python-dateutil>=2.7.3 in /Users/dircks/opt/anaconda3/envs/py36/lib/python3.6/site-packages (from pandas>=0.24->yfinance) (2.8.1)\n",
      "Requirement already satisfied: pytz>=2017.2 in /Users/dircks/opt/anaconda3/envs/py36/lib/python3.6/site-packages (from pandas>=0.24->yfinance) (2020.5)\n",
      "Requirement already satisfied: six>=1.5 in /Users/dircks/opt/anaconda3/envs/py36/lib/python3.6/site-packages (from python-dateutil>=2.7.3->pandas>=0.24->yfinance) (1.15.0)\n",
      "Requirement already satisfied: idna<3,>=2.5 in /Users/dircks/opt/anaconda3/envs/py36/lib/python3.6/site-packages (from requests>=2.20->yfinance) (2.10)\n",
      "Requirement already satisfied: urllib3<1.27,>=1.21.1 in /Users/dircks/opt/anaconda3/envs/py36/lib/python3.6/site-packages (from requests>=2.20->yfinance) (1.26.2)\n",
      "Requirement already satisfied: certifi>=2017.4.17 in /Users/dircks/opt/anaconda3/envs/py36/lib/python3.6/site-packages (from requests>=2.20->yfinance) (2020.12.5)\n",
      "Requirement already satisfied: chardet<5,>=3.0.2 in /Users/dircks/opt/anaconda3/envs/py36/lib/python3.6/site-packages (from requests>=2.20->yfinance) (4.0.0)\n",
      "Requirement already satisfied: pandas in /Users/dircks/opt/anaconda3/envs/py36/lib/python3.6/site-packages (1.1.5)\n",
      "Requirement already satisfied: pytz>=2017.2 in /Users/dircks/opt/anaconda3/envs/py36/lib/python3.6/site-packages (from pandas) (2020.5)\n",
      "Requirement already satisfied: python-dateutil>=2.7.3 in /Users/dircks/opt/anaconda3/envs/py36/lib/python3.6/site-packages (from pandas) (2.8.1)\n",
      "Requirement already satisfied: numpy>=1.15.4 in /Users/dircks/opt/anaconda3/envs/py36/lib/python3.6/site-packages (from pandas) (1.19.5)\n",
      "Requirement already satisfied: six>=1.5 in /Users/dircks/opt/anaconda3/envs/py36/lib/python3.6/site-packages (from python-dateutil>=2.7.3->pandas) (1.15.0)\n",
      "Requirement already satisfied: numpy in /Users/dircks/opt/anaconda3/envs/py36/lib/python3.6/site-packages (1.19.5)\n",
      "Requirement already satisfied: matplotlib in /Users/dircks/opt/anaconda3/envs/py36/lib/python3.6/site-packages (3.3.3)\n",
      "Requirement already satisfied: cycler>=0.10 in /Users/dircks/opt/anaconda3/envs/py36/lib/python3.6/site-packages (from matplotlib) (0.10.0)\n",
      "Requirement already satisfied: pillow>=6.2.0 in /Users/dircks/opt/anaconda3/envs/py36/lib/python3.6/site-packages (from matplotlib) (7.2.0)\n",
      "Requirement already satisfied: python-dateutil>=2.1 in /Users/dircks/opt/anaconda3/envs/py36/lib/python3.6/site-packages (from matplotlib) (2.8.1)\n",
      "Requirement already satisfied: pyparsing!=2.0.4,!=2.1.2,!=2.1.6,>=2.0.3 in /Users/dircks/opt/anaconda3/envs/py36/lib/python3.6/site-packages (from matplotlib) (2.4.7)\n",
      "Requirement already satisfied: numpy>=1.15 in /Users/dircks/opt/anaconda3/envs/py36/lib/python3.6/site-packages (from matplotlib) (1.19.5)\n",
      "Requirement already satisfied: kiwisolver>=1.0.1 in /Users/dircks/opt/anaconda3/envs/py36/lib/python3.6/site-packages (from matplotlib) (1.3.1)\n",
      "Requirement already satisfied: six in /Users/dircks/opt/anaconda3/envs/py36/lib/python3.6/site-packages (from cycler>=0.10->matplotlib) (1.15.0)\n",
      "Requirement already satisfied: stockstats in /Users/dircks/opt/anaconda3/envs/py36/lib/python3.6/site-packages (0.3.2)\n",
      "Requirement already satisfied: pandas>=0.18.1 in /Users/dircks/opt/anaconda3/envs/py36/lib/python3.6/site-packages (from stockstats) (1.1.5)\n",
      "Requirement already satisfied: int-date>=0.1.7 in /Users/dircks/opt/anaconda3/envs/py36/lib/python3.6/site-packages (from stockstats) (0.1.8)\n",
      "Requirement already satisfied: numpy>=1.9.2 in /Users/dircks/opt/anaconda3/envs/py36/lib/python3.6/site-packages (from stockstats) (1.19.5)\n",
      "Requirement already satisfied: python-dateutil>=2.4.2 in /Users/dircks/opt/anaconda3/envs/py36/lib/python3.6/site-packages (from int-date>=0.1.7->stockstats) (2.8.1)\n",
      "Requirement already satisfied: six>=1.9.0 in /Users/dircks/opt/anaconda3/envs/py36/lib/python3.6/site-packages (from int-date>=0.1.7->stockstats) (1.15.0)\n",
      "Requirement already satisfied: pytz>=2017.2 in /Users/dircks/opt/anaconda3/envs/py36/lib/python3.6/site-packages (from pandas>=0.18.1->stockstats) (2020.5)\n",
      "Requirement already satisfied: gym in /Users/dircks/opt/anaconda3/envs/py36/lib/python3.6/site-packages (0.18.0)\n",
      "Requirement already satisfied: numpy>=1.10.4 in /Users/dircks/opt/anaconda3/envs/py36/lib/python3.6/site-packages (from gym) (1.19.5)\n",
      "Requirement already satisfied: pyglet<=1.5.0,>=1.4.0 in /Users/dircks/opt/anaconda3/envs/py36/lib/python3.6/site-packages (from gym) (1.5.0)\n",
      "Requirement already satisfied: scipy in /Users/dircks/opt/anaconda3/envs/py36/lib/python3.6/site-packages (from gym) (1.5.4)\n",
      "Requirement already satisfied: Pillow<=7.2.0 in /Users/dircks/opt/anaconda3/envs/py36/lib/python3.6/site-packages (from gym) (7.2.0)\n",
      "Requirement already satisfied: cloudpickle<1.7.0,>=1.2.0 in /Users/dircks/opt/anaconda3/envs/py36/lib/python3.6/site-packages (from gym) (1.6.0)\n",
      "Requirement already satisfied: future in /Users/dircks/opt/anaconda3/envs/py36/lib/python3.6/site-packages (from pyglet<=1.5.0,>=1.4.0->gym) (0.18.2)\n",
      "Requirement already satisfied: stable-baselines3[extra] in /Users/dircks/opt/anaconda3/envs/py36/lib/python3.6/site-packages (0.10.0)\n",
      "Requirement already satisfied: pandas in /Users/dircks/opt/anaconda3/envs/py36/lib/python3.6/site-packages (from stable-baselines3[extra]) (1.1.5)\n",
      "Requirement already satisfied: matplotlib in /Users/dircks/opt/anaconda3/envs/py36/lib/python3.6/site-packages (from stable-baselines3[extra]) (3.3.3)\n",
      "Requirement already satisfied: torch>=1.4.0 in /Users/dircks/opt/anaconda3/envs/py36/lib/python3.6/site-packages (from stable-baselines3[extra]) (1.7.1)\n",
      "Requirement already satisfied: numpy in /Users/dircks/opt/anaconda3/envs/py36/lib/python3.6/site-packages (from stable-baselines3[extra]) (1.19.5)\n",
      "Requirement already satisfied: gym>=0.17 in /Users/dircks/opt/anaconda3/envs/py36/lib/python3.6/site-packages (from stable-baselines3[extra]) (0.18.0)\n",
      "Requirement already satisfied: cloudpickle in /Users/dircks/opt/anaconda3/envs/py36/lib/python3.6/site-packages (from stable-baselines3[extra]) (1.6.0)\n",
      "Requirement already satisfied: opencv-python in /Users/dircks/opt/anaconda3/envs/py36/lib/python3.6/site-packages (from stable-baselines3[extra]) (4.5.1.48)\n",
      "Requirement already satisfied: tensorboard in /Users/dircks/opt/anaconda3/envs/py36/lib/python3.6/site-packages (from stable-baselines3[extra]) (2.4.0)\n",
      "Requirement already satisfied: psutil in /Users/dircks/opt/anaconda3/envs/py36/lib/python3.6/site-packages (from stable-baselines3[extra]) (5.8.0)\n",
      "Requirement already satisfied: pillow in /Users/dircks/opt/anaconda3/envs/py36/lib/python3.6/site-packages (from stable-baselines3[extra]) (7.2.0)\n",
      "Requirement already satisfied: atari-py~=0.2.0 in /Users/dircks/opt/anaconda3/envs/py36/lib/python3.6/site-packages (from stable-baselines3[extra]) (0.2.6)\n",
      "Requirement already satisfied: six in /Users/dircks/opt/anaconda3/envs/py36/lib/python3.6/site-packages (from atari-py~=0.2.0->stable-baselines3[extra]) (1.15.0)\n",
      "Requirement already satisfied: pyglet<=1.5.0,>=1.4.0 in /Users/dircks/opt/anaconda3/envs/py36/lib/python3.6/site-packages (from gym>=0.17->stable-baselines3[extra]) (1.5.0)\n",
      "Requirement already satisfied: scipy in /Users/dircks/opt/anaconda3/envs/py36/lib/python3.6/site-packages (from gym>=0.17->stable-baselines3[extra]) (1.5.4)\n",
      "Requirement already satisfied: future in /Users/dircks/opt/anaconda3/envs/py36/lib/python3.6/site-packages (from pyglet<=1.5.0,>=1.4.0->gym>=0.17->stable-baselines3[extra]) (0.18.2)\n",
      "Requirement already satisfied: dataclasses in /Users/dircks/opt/anaconda3/envs/py36/lib/python3.6/site-packages (from torch>=1.4.0->stable-baselines3[extra]) (0.8)\n",
      "Requirement already satisfied: typing-extensions in /Users/dircks/opt/anaconda3/envs/py36/lib/python3.6/site-packages (from torch>=1.4.0->stable-baselines3[extra]) (3.7.4.3)\n",
      "Requirement already satisfied: python-dateutil>=2.1 in /Users/dircks/opt/anaconda3/envs/py36/lib/python3.6/site-packages (from matplotlib->stable-baselines3[extra]) (2.8.1)\n",
      "Requirement already satisfied: kiwisolver>=1.0.1 in /Users/dircks/opt/anaconda3/envs/py36/lib/python3.6/site-packages (from matplotlib->stable-baselines3[extra]) (1.3.1)\n",
      "Requirement already satisfied: cycler>=0.10 in /Users/dircks/opt/anaconda3/envs/py36/lib/python3.6/site-packages (from matplotlib->stable-baselines3[extra]) (0.10.0)\n",
      "Requirement already satisfied: pyparsing!=2.0.4,!=2.1.2,!=2.1.6,>=2.0.3 in /Users/dircks/opt/anaconda3/envs/py36/lib/python3.6/site-packages (from matplotlib->stable-baselines3[extra]) (2.4.7)\n"
     ]
    },
    {
     "name": "stdout",
     "output_type": "stream",
     "text": [
      "Requirement already satisfied: pytz>=2017.2 in /Users/dircks/opt/anaconda3/envs/py36/lib/python3.6/site-packages (from pandas->stable-baselines3[extra]) (2020.5)\n",
      "Requirement already satisfied: markdown>=2.6.8 in /Users/dircks/opt/anaconda3/envs/py36/lib/python3.6/site-packages (from tensorboard->stable-baselines3[extra]) (3.3.3)\n",
      "Requirement already satisfied: absl-py>=0.4 in /Users/dircks/opt/anaconda3/envs/py36/lib/python3.6/site-packages (from tensorboard->stable-baselines3[extra]) (0.11.0)\n",
      "Requirement already satisfied: tensorboard-plugin-wit>=1.6.0 in /Users/dircks/opt/anaconda3/envs/py36/lib/python3.6/site-packages (from tensorboard->stable-baselines3[extra]) (1.7.0)\n",
      "Requirement already satisfied: werkzeug>=0.11.15 in /Users/dircks/opt/anaconda3/envs/py36/lib/python3.6/site-packages (from tensorboard->stable-baselines3[extra]) (1.0.1)\n",
      "Requirement already satisfied: grpcio>=1.24.3 in /Users/dircks/opt/anaconda3/envs/py36/lib/python3.6/site-packages (from tensorboard->stable-baselines3[extra]) (1.34.0)\n",
      "Requirement already satisfied: google-auth<2,>=1.6.3 in /Users/dircks/opt/anaconda3/envs/py36/lib/python3.6/site-packages (from tensorboard->stable-baselines3[extra]) (1.24.0)\n",
      "Requirement already satisfied: protobuf>=3.6.0 in /Users/dircks/opt/anaconda3/envs/py36/lib/python3.6/site-packages (from tensorboard->stable-baselines3[extra]) (3.14.0)\n",
      "Requirement already satisfied: wheel>=0.26 in /Users/dircks/opt/anaconda3/envs/py36/lib/python3.6/site-packages (from tensorboard->stable-baselines3[extra]) (0.36.2)\n",
      "Requirement already satisfied: google-auth-oauthlib<0.5,>=0.4.1 in /Users/dircks/opt/anaconda3/envs/py36/lib/python3.6/site-packages (from tensorboard->stable-baselines3[extra]) (0.4.2)\n",
      "Requirement already satisfied: requests<3,>=2.21.0 in /Users/dircks/opt/anaconda3/envs/py36/lib/python3.6/site-packages (from tensorboard->stable-baselines3[extra]) (2.25.1)\n",
      "Requirement already satisfied: setuptools>=41.0.0 in /Users/dircks/opt/anaconda3/envs/py36/lib/python3.6/site-packages (from tensorboard->stable-baselines3[extra]) (51.0.0.post20201207)\n",
      "Requirement already satisfied: cachetools<5.0,>=2.0.0 in /Users/dircks/opt/anaconda3/envs/py36/lib/python3.6/site-packages (from google-auth<2,>=1.6.3->tensorboard->stable-baselines3[extra]) (4.2.0)\n",
      "Requirement already satisfied: rsa<5,>=3.1.4 in /Users/dircks/opt/anaconda3/envs/py36/lib/python3.6/site-packages (from google-auth<2,>=1.6.3->tensorboard->stable-baselines3[extra]) (4.6)\n",
      "Requirement already satisfied: pyasn1-modules>=0.2.1 in /Users/dircks/opt/anaconda3/envs/py36/lib/python3.6/site-packages (from google-auth<2,>=1.6.3->tensorboard->stable-baselines3[extra]) (0.2.8)\n",
      "Requirement already satisfied: requests-oauthlib>=0.7.0 in /Users/dircks/opt/anaconda3/envs/py36/lib/python3.6/site-packages (from google-auth-oauthlib<0.5,>=0.4.1->tensorboard->stable-baselines3[extra]) (1.3.0)\n",
      "Requirement already satisfied: importlib-metadata in /Users/dircks/opt/anaconda3/envs/py36/lib/python3.6/site-packages (from markdown>=2.6.8->tensorboard->stable-baselines3[extra]) (2.0.0)\n",
      "Requirement already satisfied: pyasn1<0.5.0,>=0.4.6 in /Users/dircks/opt/anaconda3/envs/py36/lib/python3.6/site-packages (from pyasn1-modules>=0.2.1->google-auth<2,>=1.6.3->tensorboard->stable-baselines3[extra]) (0.4.8)\n",
      "Requirement already satisfied: urllib3<1.27,>=1.21.1 in /Users/dircks/opt/anaconda3/envs/py36/lib/python3.6/site-packages (from requests<3,>=2.21.0->tensorboard->stable-baselines3[extra]) (1.26.2)\n",
      "Requirement already satisfied: certifi>=2017.4.17 in /Users/dircks/opt/anaconda3/envs/py36/lib/python3.6/site-packages (from requests<3,>=2.21.0->tensorboard->stable-baselines3[extra]) (2020.12.5)\n",
      "Requirement already satisfied: idna<3,>=2.5 in /Users/dircks/opt/anaconda3/envs/py36/lib/python3.6/site-packages (from requests<3,>=2.21.0->tensorboard->stable-baselines3[extra]) (2.10)\n",
      "Requirement already satisfied: chardet<5,>=3.0.2 in /Users/dircks/opt/anaconda3/envs/py36/lib/python3.6/site-packages (from requests<3,>=2.21.0->tensorboard->stable-baselines3[extra]) (4.0.0)\n",
      "Requirement already satisfied: oauthlib>=3.0.0 in /Users/dircks/opt/anaconda3/envs/py36/lib/python3.6/site-packages (from requests-oauthlib>=0.7.0->google-auth-oauthlib<0.5,>=0.4.1->tensorboard->stable-baselines3[extra]) (3.1.0)\n",
      "Requirement already satisfied: zipp>=0.5 in /Users/dircks/opt/anaconda3/envs/py36/lib/python3.6/site-packages (from importlib-metadata->markdown>=2.6.8->tensorboard->stable-baselines3[extra]) (3.4.0)\n",
      "Collecting git+https://github.com/quantopian/pyfolio\n",
      "  Cloning https://github.com/quantopian/pyfolio to /private/var/folders/w7/0rklp0b14q16x4g3wm0zfj600000gn/T/pip-req-build-x9qpokd7\n",
      "Requirement already satisfied: ipython>=3.2.3 in /Users/dircks/opt/anaconda3/envs/py36/lib/python3.6/site-packages (from pyfolio==0.9.2+75.g4b901f6) (7.16.1)\n",
      "Requirement already satisfied: matplotlib>=1.4.0 in /Users/dircks/opt/anaconda3/envs/py36/lib/python3.6/site-packages (from pyfolio==0.9.2+75.g4b901f6) (3.3.3)\n",
      "Requirement already satisfied: numpy>=1.11.1 in /Users/dircks/opt/anaconda3/envs/py36/lib/python3.6/site-packages (from pyfolio==0.9.2+75.g4b901f6) (1.19.5)\n",
      "Requirement already satisfied: pandas>=0.18.1 in /Users/dircks/opt/anaconda3/envs/py36/lib/python3.6/site-packages (from pyfolio==0.9.2+75.g4b901f6) (1.1.5)\n",
      "Requirement already satisfied: pytz>=2014.10 in /Users/dircks/opt/anaconda3/envs/py36/lib/python3.6/site-packages (from pyfolio==0.9.2+75.g4b901f6) (2020.5)\n",
      "Requirement already satisfied: scipy>=0.14.0 in /Users/dircks/opt/anaconda3/envs/py36/lib/python3.6/site-packages (from pyfolio==0.9.2+75.g4b901f6) (1.5.4)\n",
      "Requirement already satisfied: scikit-learn>=0.16.1 in /Users/dircks/opt/anaconda3/envs/py36/lib/python3.6/site-packages (from pyfolio==0.9.2+75.g4b901f6) (0.24.0)\n",
      "Requirement already satisfied: seaborn>=0.7.1 in /Users/dircks/opt/anaconda3/envs/py36/lib/python3.6/site-packages (from pyfolio==0.9.2+75.g4b901f6) (0.11.1)\n",
      "Requirement already satisfied: empyrical>=0.5.0 in /Users/dircks/opt/anaconda3/envs/py36/lib/python3.6/site-packages (from pyfolio==0.9.2+75.g4b901f6) (0.5.5)\n",
      "Requirement already satisfied: pandas-datareader>=0.2 in /Users/dircks/opt/anaconda3/envs/py36/lib/python3.6/site-packages (from empyrical>=0.5.0->pyfolio==0.9.2+75.g4b901f6) (0.9.0)\n",
      "Requirement already satisfied: prompt-toolkit!=3.0.0,!=3.0.1,<3.1.0,>=2.0.0 in /Users/dircks/opt/anaconda3/envs/py36/lib/python3.6/site-packages (from ipython>=3.2.3->pyfolio==0.9.2+75.g4b901f6) (3.0.8)\n",
      "Requirement already satisfied: backcall in /Users/dircks/opt/anaconda3/envs/py36/lib/python3.6/site-packages (from ipython>=3.2.3->pyfolio==0.9.2+75.g4b901f6) (0.2.0)\n",
      "Requirement already satisfied: appnope in /Users/dircks/opt/anaconda3/envs/py36/lib/python3.6/site-packages (from ipython>=3.2.3->pyfolio==0.9.2+75.g4b901f6) (0.1.2)\n",
      "Requirement already satisfied: pickleshare in /Users/dircks/opt/anaconda3/envs/py36/lib/python3.6/site-packages (from ipython>=3.2.3->pyfolio==0.9.2+75.g4b901f6) (0.7.5)\n",
      "Requirement already satisfied: jedi>=0.10 in /Users/dircks/opt/anaconda3/envs/py36/lib/python3.6/site-packages (from ipython>=3.2.3->pyfolio==0.9.2+75.g4b901f6) (0.18.0)\n",
      "Requirement already satisfied: pexpect in /Users/dircks/opt/anaconda3/envs/py36/lib/python3.6/site-packages (from ipython>=3.2.3->pyfolio==0.9.2+75.g4b901f6) (4.8.0)\n",
      "Requirement already satisfied: traitlets>=4.2 in /Users/dircks/opt/anaconda3/envs/py36/lib/python3.6/site-packages (from ipython>=3.2.3->pyfolio==0.9.2+75.g4b901f6) (4.3.3)\n",
      "Requirement already satisfied: decorator in /Users/dircks/opt/anaconda3/envs/py36/lib/python3.6/site-packages (from ipython>=3.2.3->pyfolio==0.9.2+75.g4b901f6) (4.4.2)\n",
      "Requirement already satisfied: pygments in /Users/dircks/opt/anaconda3/envs/py36/lib/python3.6/site-packages (from ipython>=3.2.3->pyfolio==0.9.2+75.g4b901f6) (2.7.3)\n",
      "Requirement already satisfied: setuptools>=18.5 in /Users/dircks/opt/anaconda3/envs/py36/lib/python3.6/site-packages (from ipython>=3.2.3->pyfolio==0.9.2+75.g4b901f6) (51.0.0.post20201207)\n",
      "Requirement already satisfied: parso<0.9.0,>=0.8.0 in /Users/dircks/opt/anaconda3/envs/py36/lib/python3.6/site-packages (from jedi>=0.10->ipython>=3.2.3->pyfolio==0.9.2+75.g4b901f6) (0.8.1)\n",
      "Requirement already satisfied: python-dateutil>=2.1 in /Users/dircks/opt/anaconda3/envs/py36/lib/python3.6/site-packages (from matplotlib>=1.4.0->pyfolio==0.9.2+75.g4b901f6) (2.8.1)\n",
      "Requirement already satisfied: cycler>=0.10 in /Users/dircks/opt/anaconda3/envs/py36/lib/python3.6/site-packages (from matplotlib>=1.4.0->pyfolio==0.9.2+75.g4b901f6) (0.10.0)\n",
      "Requirement already satisfied: kiwisolver>=1.0.1 in /Users/dircks/opt/anaconda3/envs/py36/lib/python3.6/site-packages (from matplotlib>=1.4.0->pyfolio==0.9.2+75.g4b901f6) (1.3.1)\n",
      "Requirement already satisfied: pillow>=6.2.0 in /Users/dircks/opt/anaconda3/envs/py36/lib/python3.6/site-packages (from matplotlib>=1.4.0->pyfolio==0.9.2+75.g4b901f6) (7.2.0)\n",
      "Requirement already satisfied: pyparsing!=2.0.4,!=2.1.2,!=2.1.6,>=2.0.3 in /Users/dircks/opt/anaconda3/envs/py36/lib/python3.6/site-packages (from matplotlib>=1.4.0->pyfolio==0.9.2+75.g4b901f6) (2.4.7)\n",
      "Requirement already satisfied: six in /Users/dircks/opt/anaconda3/envs/py36/lib/python3.6/site-packages (from cycler>=0.10->matplotlib>=1.4.0->pyfolio==0.9.2+75.g4b901f6) (1.15.0)\n"
     ]
    },
    {
     "name": "stdout",
     "output_type": "stream",
     "text": [
      "Requirement already satisfied: lxml in /Users/dircks/opt/anaconda3/envs/py36/lib/python3.6/site-packages (from pandas-datareader>=0.2->empyrical>=0.5.0->pyfolio==0.9.2+75.g4b901f6) (4.6.2)\n",
      "Requirement already satisfied: requests>=2.19.0 in /Users/dircks/opt/anaconda3/envs/py36/lib/python3.6/site-packages (from pandas-datareader>=0.2->empyrical>=0.5.0->pyfolio==0.9.2+75.g4b901f6) (2.25.1)\n",
      "Requirement already satisfied: wcwidth in /Users/dircks/opt/anaconda3/envs/py36/lib/python3.6/site-packages (from prompt-toolkit!=3.0.0,!=3.0.1,<3.1.0,>=2.0.0->ipython>=3.2.3->pyfolio==0.9.2+75.g4b901f6) (0.2.5)\n",
      "Requirement already satisfied: idna<3,>=2.5 in /Users/dircks/opt/anaconda3/envs/py36/lib/python3.6/site-packages (from requests>=2.19.0->pandas-datareader>=0.2->empyrical>=0.5.0->pyfolio==0.9.2+75.g4b901f6) (2.10)\n",
      "Requirement already satisfied: certifi>=2017.4.17 in /Users/dircks/opt/anaconda3/envs/py36/lib/python3.6/site-packages (from requests>=2.19.0->pandas-datareader>=0.2->empyrical>=0.5.0->pyfolio==0.9.2+75.g4b901f6) (2020.12.5)\n",
      "Requirement already satisfied: urllib3<1.27,>=1.21.1 in /Users/dircks/opt/anaconda3/envs/py36/lib/python3.6/site-packages (from requests>=2.19.0->pandas-datareader>=0.2->empyrical>=0.5.0->pyfolio==0.9.2+75.g4b901f6) (1.26.2)\n",
      "Requirement already satisfied: chardet<5,>=3.0.2 in /Users/dircks/opt/anaconda3/envs/py36/lib/python3.6/site-packages (from requests>=2.19.0->pandas-datareader>=0.2->empyrical>=0.5.0->pyfolio==0.9.2+75.g4b901f6) (4.0.0)\n",
      "Requirement already satisfied: joblib>=0.11 in /Users/dircks/opt/anaconda3/envs/py36/lib/python3.6/site-packages (from scikit-learn>=0.16.1->pyfolio==0.9.2+75.g4b901f6) (1.0.0)\n",
      "Requirement already satisfied: threadpoolctl>=2.0.0 in /Users/dircks/opt/anaconda3/envs/py36/lib/python3.6/site-packages (from scikit-learn>=0.16.1->pyfolio==0.9.2+75.g4b901f6) (2.1.0)\n",
      "Requirement already satisfied: ipython-genutils in /Users/dircks/opt/anaconda3/envs/py36/lib/python3.6/site-packages (from traitlets>=4.2->ipython>=3.2.3->pyfolio==0.9.2+75.g4b901f6) (0.2.0)\n",
      "Requirement already satisfied: ptyprocess>=0.5 in /Users/dircks/opt/anaconda3/envs/py36/lib/python3.6/site-packages (from pexpect->ipython>=3.2.3->pyfolio==0.9.2+75.g4b901f6) (0.7.0)\n"
     ]
    }
   ],
   "source": [
    "import pkg_resources\n",
    "import pip\n",
    "installedPackages = {pkg.key for pkg in pkg_resources.working_set}\n",
    "required = {'yfinance', 'pandas','numpy', 'matplotlib', 'stockstats','stable-baselines','gym','tensorflow','pyfolio'}\n",
    "missing = required - installedPackages\n",
    "if missing:\n",
    "    !pip install yfinance\n",
    "    !pip install pandas\n",
    "    !pip install numpy\n",
    "    !pip install matplotlib\n",
    "    !pip install stockstats\n",
    "    !pip install gym\n",
    "    !pip install stable-baselines3[extra]\n",
    "    !pip install git+https://github.com/quantopian/pyfolio\n"
   ]
  },
  {
   "cell_type": "markdown",
   "metadata": {
    "id": "nGv01K8Sh1hn"
   },
   "source": [
    "<a id='1.3'></a>\n",
    "## 2.3. Import Packages"
   ]
  },
  {
   "cell_type": "code",
   "execution_count": 3,
   "metadata": {
    "colab": {
     "base_uri": "https://localhost:8080/"
    },
    "id": "lPqeTTwoh1hn",
    "outputId": "db90f7a1-fecb-45c3-b9c1-6781d93342e2"
   },
   "outputs": [
    {
     "name": "stderr",
     "output_type": "stream",
     "text": [
      "/Users/dircks/opt/anaconda3/envs/py36/lib/python3.6/site-packages/pyfolio/pos.py:27: UserWarning: Module \"zipline.assets\" not found; multipliers will not be applied to position notionals.\n",
      "  'Module \"zipline.assets\" not found; multipliers will not be applied'\n"
     ]
    }
   ],
   "source": [
    "import pandas as pd\n",
    "import numpy as np\n",
    "import matplotlib\n",
    "import matplotlib.pyplot as plt\n",
    "matplotlib.use('Agg')\n",
    "import datetime\n",
    "\n",
    "from finrl.config import config\n",
    "from finrl.marketdata.yahoodownloader import YahooDownloader\n",
    "from finrl.preprocessing.preprocessors import FeatureEngineer\n",
    "from finrl.preprocessing.data import data_split\n",
    "from finrl.env.environment import EnvSetup\n",
    "from finrl.env.EnvMultipleStock_train import StockEnvTrain\n",
    "from finrl.env.EnvMultipleStock_trade import StockEnvTrade\n",
    "from finrl.model.models import DRLAgent\n",
    "from finrl.trade.backtest import BackTestStats, BaselineStats, BackTestPlot\n",
    "\n"
   ]
  },
  {
   "cell_type": "markdown",
   "metadata": {
    "id": "T2owTj985RW4"
   },
   "source": [
    "<a id='1.4'></a>\n",
    "## 2.4. Create Folders"
   ]
  },
  {
   "cell_type": "code",
   "execution_count": 4,
   "metadata": {
    "id": "w9A8CN5R5PuZ"
   },
   "outputs": [],
   "source": [
    "import os\n",
    "if not os.path.exists(\"./\" + config.DATA_SAVE_DIR):\n",
    "    os.makedirs(\"./\" + config.DATA_SAVE_DIR)\n",
    "if not os.path.exists(\"./\" + config.TRAINED_MODEL_DIR):\n",
    "    os.makedirs(\"./\" + config.TRAINED_MODEL_DIR)\n",
    "if not os.path.exists(\"./\" + config.TENSORBOARD_LOG_DIR):\n",
    "    os.makedirs(\"./\" + config.TENSORBOARD_LOG_DIR)\n",
    "if not os.path.exists(\"./\" + config.RESULTS_DIR):\n",
    "    os.makedirs(\"./\" + config.RESULTS_DIR)"
   ]
  },
  {
   "cell_type": "markdown",
   "metadata": {
    "id": "A289rQWMh1hq"
   },
   "source": [
    "<a id='2'></a>\n",
    "# Part 3. Download Data\n",
    "Yahoo Finance is a website that provides stock data, financial news, financial reports, etc. All the data provided by Yahoo Finance is free.\n",
    "* FinRL uses a class **YahooDownloader** to fetch data from Yahoo Finance API\n",
    "* Call Limit: Using the Public API (without authentication), you are limited to 2,000 requests per hour per IP (or up to a total of 48,000 requests a day).\n"
   ]
  },
  {
   "cell_type": "markdown",
   "metadata": {
    "id": "NPeQ7iS-LoMm"
   },
   "source": [
    "\n",
    "\n",
    "-----\n",
    "class YahooDownloader:\n",
    "    Provides methods for retrieving daily stock data from\n",
    "    Yahoo Finance API\n",
    "\n",
    "    Attributes\n",
    "    ----------\n",
    "        start_date : str\n",
    "            start date of the data (modified from config.py)\n",
    "        end_date : str\n",
    "            end date of the data (modified from config.py)\n",
    "        ticker_list : list\n",
    "            a list of stock tickers (modified from config.py)\n",
    "\n",
    "    Methods\n",
    "    -------\n",
    "    fetch_data()\n",
    "        Fetches data from yahoo API\n"
   ]
  },
  {
   "cell_type": "code",
   "execution_count": 5,
   "metadata": {
    "colab": {
     "base_uri": "https://localhost:8080/",
     "height": 35
    },
    "id": "h3XJnvrbLp-C",
    "outputId": "26b22b1d-ad69-4483-e310-3f5f523f3ffa"
   },
   "outputs": [
    {
     "data": {
      "text/plain": [
       "'2009-01-01'"
      ]
     },
     "execution_count": 5,
     "metadata": {},
     "output_type": "execute_result"
    }
   ],
   "source": [
    "# from config.py start_date is a string\n",
    "config.START_DATE"
   ]
  },
  {
   "cell_type": "code",
   "execution_count": 6,
   "metadata": {
    "colab": {
     "base_uri": "https://localhost:8080/",
     "height": 35
    },
    "id": "FUnY8WEfLq3C",
    "outputId": "abcc5cdb-ef15-47ab-c5ac-3bffe5bdbe26"
   },
   "outputs": [
    {
     "data": {
      "text/plain": [
       "'2020-12-01'"
      ]
     },
     "execution_count": 6,
     "metadata": {},
     "output_type": "execute_result"
    }
   ],
   "source": [
    "# from config.py end_date is a string\n",
    "config.END_DATE"
   ]
  },
  {
   "cell_type": "code",
   "execution_count": 7,
   "metadata": {
    "colab": {
     "base_uri": "https://localhost:8080/"
    },
    "id": "JzqRRTOX6aFu",
    "outputId": "6103745f-6618-42ac-f3d5-95716bcd5e0f"
   },
   "outputs": [
    {
     "name": "stdout",
     "output_type": "stream",
     "text": [
      "['AAPL', 'MSFT', 'JPM', 'V', 'RTX', 'PG', 'GS', 'NKE', 'DIS', 'AXP', 'HD', 'INTC', 'WMT', 'IBM', 'MRK', 'UNH', 'KO', 'CAT', 'TRV', 'JNJ', 'CVX', 'MCD', 'VZ', 'CSCO', 'XOM', 'BA', 'MMM', 'PFE', 'WBA', 'DD']\n"
     ]
    }
   ],
   "source": [
    "print(config.DOW_30_TICKER)"
   ]
  },
  {
   "cell_type": "code",
   "execution_count": 8,
   "metadata": {
    "colab": {
     "base_uri": "https://localhost:8080/"
    },
    "id": "yCKm4om-s9kE",
    "outputId": "8f9b1fab-5e79-4acf-a054-83e171a0c7ca"
   },
   "outputs": [
    {
     "name": "stdout",
     "output_type": "stream",
     "text": [
      "[*********************100%***********************]  1 of 1 completed\n",
      "[*********************100%***********************]  1 of 1 completed\n",
      "[*********************100%***********************]  1 of 1 completed\n",
      "[*********************100%***********************]  1 of 1 completed\n",
      "[*********************100%***********************]  1 of 1 completed\n",
      "[*********************100%***********************]  1 of 1 completed\n",
      "[*********************100%***********************]  1 of 1 completed\n",
      "[*********************100%***********************]  1 of 1 completed\n",
      "[*********************100%***********************]  1 of 1 completed\n",
      "[*********************100%***********************]  1 of 1 completed\n",
      "[*********************100%***********************]  1 of 1 completed\n",
      "[*********************100%***********************]  1 of 1 completed\n",
      "[*********************100%***********************]  1 of 1 completed\n",
      "[*********************100%***********************]  1 of 1 completed\n",
      "[*********************100%***********************]  1 of 1 completed\n",
      "[*********************100%***********************]  1 of 1 completed\n",
      "[*********************100%***********************]  1 of 1 completed\n",
      "[*********************100%***********************]  1 of 1 completed\n",
      "[*********************100%***********************]  1 of 1 completed\n",
      "[*********************100%***********************]  1 of 1 completed\n",
      "[*********************100%***********************]  1 of 1 completed\n",
      "[*********************100%***********************]  1 of 1 completed\n",
      "[*********************100%***********************]  1 of 1 completed\n",
      "[*********************100%***********************]  1 of 1 completed\n",
      "[*********************100%***********************]  1 of 1 completed\n",
      "[*********************100%***********************]  1 of 1 completed\n",
      "[*********************100%***********************]  1 of 1 completed\n",
      "[*********************100%***********************]  1 of 1 completed\n",
      "[*********************100%***********************]  1 of 1 completed\n",
      "[*********************100%***********************]  1 of 1 completed\n",
      "Shape of DataFrame:  (89970, 7)\n"
     ]
    }
   ],
   "source": [
    "df = YahooDownloader(start_date = '2009-01-01',\n",
    "                     end_date = '2020-12-01',\n",
    "                     ticker_list = config.DOW_30_TICKER).fetch_data()"
   ]
  },
  {
   "cell_type": "code",
   "execution_count": 9,
   "metadata": {
    "colab": {
     "base_uri": "https://localhost:8080/"
    },
    "id": "CV3HrZHLh1hy",
    "outputId": "460516d1-c117-4443-adee-f3391812c9d2"
   },
   "outputs": [
    {
     "data": {
      "text/plain": [
       "(89970, 7)"
      ]
     },
     "execution_count": 9,
     "metadata": {},
     "output_type": "execute_result"
    }
   ],
   "source": [
    "df.shape"
   ]
  },
  {
   "cell_type": "code",
   "execution_count": 10,
   "metadata": {
    "colab": {
     "base_uri": "https://localhost:8080/",
     "height": 199
    },
    "id": "4hYkeaPiICHS",
    "outputId": "876068ce-8160-434d-8579-5ea9dcecec6b"
   },
   "outputs": [
    {
     "data": {
      "text/html": [
       "<div>\n",
       "<style scoped>\n",
       "    .dataframe tbody tr th:only-of-type {\n",
       "        vertical-align: middle;\n",
       "    }\n",
       "\n",
       "    .dataframe tbody tr th {\n",
       "        vertical-align: top;\n",
       "    }\n",
       "\n",
       "    .dataframe thead th {\n",
       "        text-align: right;\n",
       "    }\n",
       "</style>\n",
       "<table border=\"1\" class=\"dataframe\">\n",
       "  <thead>\n",
       "    <tr style=\"text-align: right;\">\n",
       "      <th></th>\n",
       "      <th>date</th>\n",
       "      <th>open</th>\n",
       "      <th>high</th>\n",
       "      <th>low</th>\n",
       "      <th>close</th>\n",
       "      <th>volume</th>\n",
       "      <th>tic</th>\n",
       "    </tr>\n",
       "  </thead>\n",
       "  <tbody>\n",
       "    <tr>\n",
       "      <th>0</th>\n",
       "      <td>2009-01-02</td>\n",
       "      <td>3.067143</td>\n",
       "      <td>3.251429</td>\n",
       "      <td>3.041429</td>\n",
       "      <td>2.795913</td>\n",
       "      <td>746015200.0</td>\n",
       "      <td>AAPL</td>\n",
       "    </tr>\n",
       "    <tr>\n",
       "      <th>1</th>\n",
       "      <td>2009-01-02</td>\n",
       "      <td>18.570000</td>\n",
       "      <td>19.520000</td>\n",
       "      <td>18.400000</td>\n",
       "      <td>15.800624</td>\n",
       "      <td>10955700.0</td>\n",
       "      <td>AXP</td>\n",
       "    </tr>\n",
       "    <tr>\n",
       "      <th>2</th>\n",
       "      <td>2009-01-02</td>\n",
       "      <td>42.799999</td>\n",
       "      <td>45.560001</td>\n",
       "      <td>42.779999</td>\n",
       "      <td>33.680935</td>\n",
       "      <td>7010200.0</td>\n",
       "      <td>BA</td>\n",
       "    </tr>\n",
       "    <tr>\n",
       "      <th>3</th>\n",
       "      <td>2009-01-02</td>\n",
       "      <td>44.910000</td>\n",
       "      <td>46.980000</td>\n",
       "      <td>44.709999</td>\n",
       "      <td>32.514400</td>\n",
       "      <td>7117200.0</td>\n",
       "      <td>CAT</td>\n",
       "    </tr>\n",
       "    <tr>\n",
       "      <th>4</th>\n",
       "      <td>2009-01-02</td>\n",
       "      <td>16.410000</td>\n",
       "      <td>17.000000</td>\n",
       "      <td>16.250000</td>\n",
       "      <td>12.683227</td>\n",
       "      <td>40980600.0</td>\n",
       "      <td>CSCO</td>\n",
       "    </tr>\n",
       "  </tbody>\n",
       "</table>\n",
       "</div>"
      ],
      "text/plain": [
       "         date       open       high        low      close       volume   tic\n",
       "0  2009-01-02   3.067143   3.251429   3.041429   2.795913  746015200.0  AAPL\n",
       "1  2009-01-02  18.570000  19.520000  18.400000  15.800624   10955700.0   AXP\n",
       "2  2009-01-02  42.799999  45.560001  42.779999  33.680935    7010200.0    BA\n",
       "3  2009-01-02  44.910000  46.980000  44.709999  32.514400    7117200.0   CAT\n",
       "4  2009-01-02  16.410000  17.000000  16.250000  12.683227   40980600.0  CSCO"
      ]
     },
     "execution_count": 10,
     "metadata": {},
     "output_type": "execute_result"
    }
   ],
   "source": [
    "df.sort_values(['date','tic'],ignore_index=True).head()"
   ]
  },
  {
   "cell_type": "markdown",
   "metadata": {
    "id": "uqC6c40Zh1iH"
   },
   "source": [
    "# Part 4: Preprocess Data\n",
    "Data preprocessing is a crucial step for training a high quality machine learning model. We need to check for missing data and do feature engineering in order to convert the data into a model-ready state.\n",
    "* Add technical indicators. In practical trading, various information needs to be taken into account, for example the historical stock prices, current holding shares, technical indicators, etc. In this article, we demonstrate two trend-following technical indicators: MACD and RSI.\n",
    "* Add turbulence index. Risk-aversion reflects whether an investor will choose to preserve the capital. It also influences one's trading strategy when facing different market volatility level. To control the risk in a worst-case scenario, such as financial crisis of 2007–2008, FinRL employs the financial turbulence index that measures extreme asset price fluctuation."
   ]
  },
  {
   "cell_type": "code",
   "execution_count": 11,
   "metadata": {
    "colab": {
     "base_uri": "https://localhost:8080/"
    },
    "id": "Le342Hc1h1iI",
    "outputId": "789c16d1-4933-4727-d27f-1c0c107b8ff7"
   },
   "outputs": [
    {
     "name": "stdout",
     "output_type": "stream",
     "text": [
      "Successfully added technical indicators\n",
      "Successfully added turbulence index\n"
     ]
    }
   ],
   "source": [
    "df = FeatureEngineer(df.copy(),\n",
    "                    use_technical_indicator=True,\n",
    "                    tech_indicator_list = config.TECHNICAL_INDICATORS_LIST,\n",
    "                    use_turbulence=True,\n",
    "                    user_defined_feature = False).preprocess_data()"
   ]
  },
  {
   "cell_type": "code",
   "execution_count": 12,
   "metadata": {
    "colab": {
     "base_uri": "https://localhost:8080/",
     "height": 351
    },
    "id": "grvhGJJII3Xn",
    "outputId": "2667dc49-47a9-4751-cfa1-98ec3a574f0e"
   },
   "outputs": [
    {
     "data": {
      "text/html": [
       "<div>\n",
       "<style scoped>\n",
       "    .dataframe tbody tr th:only-of-type {\n",
       "        vertical-align: middle;\n",
       "    }\n",
       "\n",
       "    .dataframe tbody tr th {\n",
       "        vertical-align: top;\n",
       "    }\n",
       "\n",
       "    .dataframe thead th {\n",
       "        text-align: right;\n",
       "    }\n",
       "</style>\n",
       "<table border=\"1\" class=\"dataframe\">\n",
       "  <thead>\n",
       "    <tr style=\"text-align: right;\">\n",
       "      <th></th>\n",
       "      <th>date</th>\n",
       "      <th>open</th>\n",
       "      <th>high</th>\n",
       "      <th>low</th>\n",
       "      <th>close</th>\n",
       "      <th>volume</th>\n",
       "      <th>tic</th>\n",
       "      <th>macd</th>\n",
       "      <th>rsi_30</th>\n",
       "      <th>cci_30</th>\n",
       "      <th>dx_30</th>\n",
       "      <th>turbulence</th>\n",
       "    </tr>\n",
       "  </thead>\n",
       "  <tbody>\n",
       "    <tr>\n",
       "      <th>0</th>\n",
       "      <td>2009-01-02</td>\n",
       "      <td>3.067143</td>\n",
       "      <td>3.251429</td>\n",
       "      <td>3.041429</td>\n",
       "      <td>2.795913</td>\n",
       "      <td>746015200.0</td>\n",
       "      <td>AAPL</td>\n",
       "      <td>0.0</td>\n",
       "      <td>100.0</td>\n",
       "      <td>66.666667</td>\n",
       "      <td>100.0</td>\n",
       "      <td>0.0</td>\n",
       "    </tr>\n",
       "    <tr>\n",
       "      <th>1</th>\n",
       "      <td>2009-01-02</td>\n",
       "      <td>18.570000</td>\n",
       "      <td>19.520000</td>\n",
       "      <td>18.400000</td>\n",
       "      <td>15.800624</td>\n",
       "      <td>10955700.0</td>\n",
       "      <td>AXP</td>\n",
       "      <td>0.0</td>\n",
       "      <td>100.0</td>\n",
       "      <td>66.666667</td>\n",
       "      <td>100.0</td>\n",
       "      <td>0.0</td>\n",
       "    </tr>\n",
       "    <tr>\n",
       "      <th>2</th>\n",
       "      <td>2009-01-02</td>\n",
       "      <td>42.799999</td>\n",
       "      <td>45.560001</td>\n",
       "      <td>42.779999</td>\n",
       "      <td>33.680935</td>\n",
       "      <td>7010200.0</td>\n",
       "      <td>BA</td>\n",
       "      <td>0.0</td>\n",
       "      <td>100.0</td>\n",
       "      <td>66.666667</td>\n",
       "      <td>100.0</td>\n",
       "      <td>0.0</td>\n",
       "    </tr>\n",
       "    <tr>\n",
       "      <th>3</th>\n",
       "      <td>2009-01-02</td>\n",
       "      <td>44.910000</td>\n",
       "      <td>46.980000</td>\n",
       "      <td>44.709999</td>\n",
       "      <td>32.514400</td>\n",
       "      <td>7117200.0</td>\n",
       "      <td>CAT</td>\n",
       "      <td>0.0</td>\n",
       "      <td>100.0</td>\n",
       "      <td>66.666667</td>\n",
       "      <td>100.0</td>\n",
       "      <td>0.0</td>\n",
       "    </tr>\n",
       "    <tr>\n",
       "      <th>4</th>\n",
       "      <td>2009-01-02</td>\n",
       "      <td>16.410000</td>\n",
       "      <td>17.000000</td>\n",
       "      <td>16.250000</td>\n",
       "      <td>12.683227</td>\n",
       "      <td>40980600.0</td>\n",
       "      <td>CSCO</td>\n",
       "      <td>0.0</td>\n",
       "      <td>100.0</td>\n",
       "      <td>66.666667</td>\n",
       "      <td>100.0</td>\n",
       "      <td>0.0</td>\n",
       "    </tr>\n",
       "    <tr>\n",
       "      <th>5</th>\n",
       "      <td>2009-01-02</td>\n",
       "      <td>74.230003</td>\n",
       "      <td>77.300003</td>\n",
       "      <td>73.580002</td>\n",
       "      <td>48.043262</td>\n",
       "      <td>13695900.0</td>\n",
       "      <td>CVX</td>\n",
       "      <td>0.0</td>\n",
       "      <td>100.0</td>\n",
       "      <td>66.666667</td>\n",
       "      <td>100.0</td>\n",
       "      <td>0.0</td>\n",
       "    </tr>\n",
       "    <tr>\n",
       "      <th>6</th>\n",
       "      <td>2009-01-02</td>\n",
       "      <td>21.605234</td>\n",
       "      <td>22.060680</td>\n",
       "      <td>20.993229</td>\n",
       "      <td>14.527276</td>\n",
       "      <td>13251000.0</td>\n",
       "      <td>DD</td>\n",
       "      <td>0.0</td>\n",
       "      <td>100.0</td>\n",
       "      <td>66.666667</td>\n",
       "      <td>100.0</td>\n",
       "      <td>0.0</td>\n",
       "    </tr>\n",
       "    <tr>\n",
       "      <th>7</th>\n",
       "      <td>2009-01-02</td>\n",
       "      <td>22.760000</td>\n",
       "      <td>24.030001</td>\n",
       "      <td>22.500000</td>\n",
       "      <td>20.597496</td>\n",
       "      <td>9796600.0</td>\n",
       "      <td>DIS</td>\n",
       "      <td>0.0</td>\n",
       "      <td>100.0</td>\n",
       "      <td>66.666667</td>\n",
       "      <td>100.0</td>\n",
       "      <td>0.0</td>\n",
       "    </tr>\n",
       "    <tr>\n",
       "      <th>8</th>\n",
       "      <td>2009-01-02</td>\n",
       "      <td>84.019997</td>\n",
       "      <td>87.620003</td>\n",
       "      <td>82.190002</td>\n",
       "      <td>72.844467</td>\n",
       "      <td>14088500.0</td>\n",
       "      <td>GS</td>\n",
       "      <td>0.0</td>\n",
       "      <td>100.0</td>\n",
       "      <td>66.666667</td>\n",
       "      <td>100.0</td>\n",
       "      <td>0.0</td>\n",
       "    </tr>\n",
       "    <tr>\n",
       "      <th>9</th>\n",
       "      <td>2009-01-02</td>\n",
       "      <td>23.070000</td>\n",
       "      <td>24.190001</td>\n",
       "      <td>22.959999</td>\n",
       "      <td>17.909452</td>\n",
       "      <td>14902500.0</td>\n",
       "      <td>HD</td>\n",
       "      <td>0.0</td>\n",
       "      <td>100.0</td>\n",
       "      <td>66.666667</td>\n",
       "      <td>100.0</td>\n",
       "      <td>0.0</td>\n",
       "    </tr>\n",
       "  </tbody>\n",
       "</table>\n",
       "</div>"
      ],
      "text/plain": [
       "         date       open       high        low      close       volume   tic  \\\n",
       "0  2009-01-02   3.067143   3.251429   3.041429   2.795913  746015200.0  AAPL   \n",
       "1  2009-01-02  18.570000  19.520000  18.400000  15.800624   10955700.0   AXP   \n",
       "2  2009-01-02  42.799999  45.560001  42.779999  33.680935    7010200.0    BA   \n",
       "3  2009-01-02  44.910000  46.980000  44.709999  32.514400    7117200.0   CAT   \n",
       "4  2009-01-02  16.410000  17.000000  16.250000  12.683227   40980600.0  CSCO   \n",
       "5  2009-01-02  74.230003  77.300003  73.580002  48.043262   13695900.0   CVX   \n",
       "6  2009-01-02  21.605234  22.060680  20.993229  14.527276   13251000.0    DD   \n",
       "7  2009-01-02  22.760000  24.030001  22.500000  20.597496    9796600.0   DIS   \n",
       "8  2009-01-02  84.019997  87.620003  82.190002  72.844467   14088500.0    GS   \n",
       "9  2009-01-02  23.070000  24.190001  22.959999  17.909452   14902500.0    HD   \n",
       "\n",
       "   macd  rsi_30     cci_30  dx_30  turbulence  \n",
       "0   0.0   100.0  66.666667  100.0         0.0  \n",
       "1   0.0   100.0  66.666667  100.0         0.0  \n",
       "2   0.0   100.0  66.666667  100.0         0.0  \n",
       "3   0.0   100.0  66.666667  100.0         0.0  \n",
       "4   0.0   100.0  66.666667  100.0         0.0  \n",
       "5   0.0   100.0  66.666667  100.0         0.0  \n",
       "6   0.0   100.0  66.666667  100.0         0.0  \n",
       "7   0.0   100.0  66.666667  100.0         0.0  \n",
       "8   0.0   100.0  66.666667  100.0         0.0  \n",
       "9   0.0   100.0  66.666667  100.0         0.0  "
      ]
     },
     "execution_count": 12,
     "metadata": {},
     "output_type": "execute_result"
    }
   ],
   "source": [
    "df.sort_values(['date','tic'],ignore_index=True).head(10)"
   ]
  },
  {
   "cell_type": "markdown",
   "metadata": {
    "id": "-QsYaY0Dh1iw"
   },
   "source": [
    "<a id='4'></a>\n",
    "# Part 5. Design Environment\n",
    "Considering the stochastic and interactive nature of the automated stock trading tasks, a financial task is modeled as a **Markov Decision Process (MDP)** problem. The training process involves observing stock price change, taking an action and reward's calculation to have the agent adjusting its strategy accordingly. By interacting with the environment, the trading agent will derive a trading strategy with the maximized rewards as time proceeds.\n",
    "\n",
    "Our trading environments, based on OpenAI Gym framework, simulate live stock markets with real market data according to the principle of time-driven simulation.\n",
    "\n",
    "The action space describes the allowed actions that the agent interacts with the environment. Normally, action a includes three actions: {-1, 0, 1}, where -1, 0, 1 represent selling, holding, and buying one share. Also, an action can be carried upon multiple shares. We use an action space {-k,…,-1, 0, 1, …, k}, where k denotes the number of shares to buy and -k denotes the number of shares to sell. For example, \"Buy 10 shares of AAPL\" or \"Sell 10 shares of AAPL\" are 10 or -10, respectively. The continuous action space needs to be normalized to [-1, 1], since the policy is defined on a Gaussian distribution, which needs to be normalized and symmetric."
   ]
  },
  {
   "cell_type": "markdown",
   "metadata": {
    "id": "5TOhcryx44bb"
   },
   "source": [
    "## Training data split: 2009-01-01 to 2018-12-31\n",
    "## Trade data split: 2019-01-01 to 2020-09-30"
   ]
  },
  {
   "cell_type": "code",
   "execution_count": 13,
   "metadata": {
    "id": "W0qaVGjLtgbI"
   },
   "outputs": [],
   "source": [
    "train = data_split(df, '2009-01-01','2019-01-01')\n",
    "trade = data_split(df, '2019-01-01','2020-12-01')\n"
   ]
  },
  {
   "cell_type": "code",
   "execution_count": 14,
   "metadata": {
    "colab": {
     "base_uri": "https://localhost:8080/",
     "height": 199
    },
    "id": "p52zNCOhTtLR",
    "outputId": "ded764c5-982d-4c2d-9ec4-aaef0cc4d020"
   },
   "outputs": [
    {
     "data": {
      "text/html": [
       "<div>\n",
       "<style scoped>\n",
       "    .dataframe tbody tr th:only-of-type {\n",
       "        vertical-align: middle;\n",
       "    }\n",
       "\n",
       "    .dataframe tbody tr th {\n",
       "        vertical-align: top;\n",
       "    }\n",
       "\n",
       "    .dataframe thead th {\n",
       "        text-align: right;\n",
       "    }\n",
       "</style>\n",
       "<table border=\"1\" class=\"dataframe\">\n",
       "  <thead>\n",
       "    <tr style=\"text-align: right;\">\n",
       "      <th></th>\n",
       "      <th>date</th>\n",
       "      <th>open</th>\n",
       "      <th>high</th>\n",
       "      <th>low</th>\n",
       "      <th>close</th>\n",
       "      <th>volume</th>\n",
       "      <th>tic</th>\n",
       "      <th>macd</th>\n",
       "      <th>rsi_30</th>\n",
       "      <th>cci_30</th>\n",
       "      <th>dx_30</th>\n",
       "      <th>turbulence</th>\n",
       "    </tr>\n",
       "  </thead>\n",
       "  <tbody>\n",
       "    <tr>\n",
       "      <th>0</th>\n",
       "      <td>2009-01-02</td>\n",
       "      <td>3.067143</td>\n",
       "      <td>3.251429</td>\n",
       "      <td>3.041429</td>\n",
       "      <td>2.795913</td>\n",
       "      <td>746015200.0</td>\n",
       "      <td>AAPL</td>\n",
       "      <td>0.0</td>\n",
       "      <td>100.0</td>\n",
       "      <td>66.666667</td>\n",
       "      <td>100.0</td>\n",
       "      <td>0.0</td>\n",
       "    </tr>\n",
       "    <tr>\n",
       "      <th>0</th>\n",
       "      <td>2009-01-02</td>\n",
       "      <td>18.570000</td>\n",
       "      <td>19.520000</td>\n",
       "      <td>18.400000</td>\n",
       "      <td>15.800624</td>\n",
       "      <td>10955700.0</td>\n",
       "      <td>AXP</td>\n",
       "      <td>0.0</td>\n",
       "      <td>100.0</td>\n",
       "      <td>66.666667</td>\n",
       "      <td>100.0</td>\n",
       "      <td>0.0</td>\n",
       "    </tr>\n",
       "    <tr>\n",
       "      <th>0</th>\n",
       "      <td>2009-01-02</td>\n",
       "      <td>42.799999</td>\n",
       "      <td>45.560001</td>\n",
       "      <td>42.779999</td>\n",
       "      <td>33.680935</td>\n",
       "      <td>7010200.0</td>\n",
       "      <td>BA</td>\n",
       "      <td>0.0</td>\n",
       "      <td>100.0</td>\n",
       "      <td>66.666667</td>\n",
       "      <td>100.0</td>\n",
       "      <td>0.0</td>\n",
       "    </tr>\n",
       "    <tr>\n",
       "      <th>0</th>\n",
       "      <td>2009-01-02</td>\n",
       "      <td>44.910000</td>\n",
       "      <td>46.980000</td>\n",
       "      <td>44.709999</td>\n",
       "      <td>32.514400</td>\n",
       "      <td>7117200.0</td>\n",
       "      <td>CAT</td>\n",
       "      <td>0.0</td>\n",
       "      <td>100.0</td>\n",
       "      <td>66.666667</td>\n",
       "      <td>100.0</td>\n",
       "      <td>0.0</td>\n",
       "    </tr>\n",
       "    <tr>\n",
       "      <th>0</th>\n",
       "      <td>2009-01-02</td>\n",
       "      <td>16.410000</td>\n",
       "      <td>17.000000</td>\n",
       "      <td>16.250000</td>\n",
       "      <td>12.683227</td>\n",
       "      <td>40980600.0</td>\n",
       "      <td>CSCO</td>\n",
       "      <td>0.0</td>\n",
       "      <td>100.0</td>\n",
       "      <td>66.666667</td>\n",
       "      <td>100.0</td>\n",
       "      <td>0.0</td>\n",
       "    </tr>\n",
       "  </tbody>\n",
       "</table>\n",
       "</div>"
      ],
      "text/plain": [
       "         date       open       high        low      close       volume   tic  \\\n",
       "0  2009-01-02   3.067143   3.251429   3.041429   2.795913  746015200.0  AAPL   \n",
       "0  2009-01-02  18.570000  19.520000  18.400000  15.800624   10955700.0   AXP   \n",
       "0  2009-01-02  42.799999  45.560001  42.779999  33.680935    7010200.0    BA   \n",
       "0  2009-01-02  44.910000  46.980000  44.709999  32.514400    7117200.0   CAT   \n",
       "0  2009-01-02  16.410000  17.000000  16.250000  12.683227   40980600.0  CSCO   \n",
       "\n",
       "   macd  rsi_30     cci_30  dx_30  turbulence  \n",
       "0   0.0   100.0  66.666667  100.0         0.0  \n",
       "0   0.0   100.0  66.666667  100.0         0.0  \n",
       "0   0.0   100.0  66.666667  100.0         0.0  \n",
       "0   0.0   100.0  66.666667  100.0         0.0  \n",
       "0   0.0   100.0  66.666667  100.0         0.0  "
      ]
     },
     "execution_count": 14,
     "metadata": {},
     "output_type": "execute_result"
    }
   ],
   "source": [
    "train.head()"
   ]
  },
  {
   "cell_type": "code",
   "execution_count": 15,
   "metadata": {
    "colab": {
     "base_uri": "https://localhost:8080/",
     "height": 199
    },
    "id": "k9zU9YaTTvFq",
    "outputId": "c10e63ea-f3f9-4bfd-e554-cd671b9d5f23"
   },
   "outputs": [
    {
     "data": {
      "text/html": [
       "<div>\n",
       "<style scoped>\n",
       "    .dataframe tbody tr th:only-of-type {\n",
       "        vertical-align: middle;\n",
       "    }\n",
       "\n",
       "    .dataframe tbody tr th {\n",
       "        vertical-align: top;\n",
       "    }\n",
       "\n",
       "    .dataframe thead th {\n",
       "        text-align: right;\n",
       "    }\n",
       "</style>\n",
       "<table border=\"1\" class=\"dataframe\">\n",
       "  <thead>\n",
       "    <tr style=\"text-align: right;\">\n",
       "      <th></th>\n",
       "      <th>date</th>\n",
       "      <th>open</th>\n",
       "      <th>high</th>\n",
       "      <th>low</th>\n",
       "      <th>close</th>\n",
       "      <th>volume</th>\n",
       "      <th>tic</th>\n",
       "      <th>macd</th>\n",
       "      <th>rsi_30</th>\n",
       "      <th>cci_30</th>\n",
       "      <th>dx_30</th>\n",
       "      <th>turbulence</th>\n",
       "    </tr>\n",
       "  </thead>\n",
       "  <tbody>\n",
       "    <tr>\n",
       "      <th>0</th>\n",
       "      <td>2019-01-02</td>\n",
       "      <td>38.722500</td>\n",
       "      <td>39.712502</td>\n",
       "      <td>38.557499</td>\n",
       "      <td>38.562561</td>\n",
       "      <td>148158800.0</td>\n",
       "      <td>AAPL</td>\n",
       "      <td>-2.019903</td>\n",
       "      <td>37.867349</td>\n",
       "      <td>-91.567852</td>\n",
       "      <td>42.250808</td>\n",
       "      <td>119.879167</td>\n",
       "    </tr>\n",
       "    <tr>\n",
       "      <th>0</th>\n",
       "      <td>2019-01-02</td>\n",
       "      <td>93.910004</td>\n",
       "      <td>96.269997</td>\n",
       "      <td>93.769997</td>\n",
       "      <td>92.643311</td>\n",
       "      <td>4175400.0</td>\n",
       "      <td>AXP</td>\n",
       "      <td>-3.426008</td>\n",
       "      <td>41.204982</td>\n",
       "      <td>-97.742269</td>\n",
       "      <td>26.709417</td>\n",
       "      <td>119.879167</td>\n",
       "    </tr>\n",
       "    <tr>\n",
       "      <th>0</th>\n",
       "      <td>2019-01-02</td>\n",
       "      <td>316.190002</td>\n",
       "      <td>323.950012</td>\n",
       "      <td>313.709991</td>\n",
       "      <td>314.645142</td>\n",
       "      <td>3292200.0</td>\n",
       "      <td>BA</td>\n",
       "      <td>-5.550592</td>\n",
       "      <td>47.010000</td>\n",
       "      <td>-21.712382</td>\n",
       "      <td>13.611972</td>\n",
       "      <td>119.879167</td>\n",
       "    </tr>\n",
       "    <tr>\n",
       "      <th>0</th>\n",
       "      <td>2019-01-02</td>\n",
       "      <td>124.029999</td>\n",
       "      <td>127.879997</td>\n",
       "      <td>123.000000</td>\n",
       "      <td>119.302582</td>\n",
       "      <td>4783200.0</td>\n",
       "      <td>CAT</td>\n",
       "      <td>-0.686759</td>\n",
       "      <td>48.229089</td>\n",
       "      <td>-5.091209</td>\n",
       "      <td>0.873482</td>\n",
       "      <td>119.879167</td>\n",
       "    </tr>\n",
       "    <tr>\n",
       "      <th>0</th>\n",
       "      <td>2019-01-02</td>\n",
       "      <td>42.279999</td>\n",
       "      <td>43.200001</td>\n",
       "      <td>42.209999</td>\n",
       "      <td>40.057236</td>\n",
       "      <td>23833500.0</td>\n",
       "      <td>CSCO</td>\n",
       "      <td>-0.952338</td>\n",
       "      <td>44.872557</td>\n",
       "      <td>-87.518839</td>\n",
       "      <td>29.529377</td>\n",
       "      <td>119.879167</td>\n",
       "    </tr>\n",
       "  </tbody>\n",
       "</table>\n",
       "</div>"
      ],
      "text/plain": [
       "         date        open        high         low       close       volume  \\\n",
       "0  2019-01-02   38.722500   39.712502   38.557499   38.562561  148158800.0   \n",
       "0  2019-01-02   93.910004   96.269997   93.769997   92.643311    4175400.0   \n",
       "0  2019-01-02  316.190002  323.950012  313.709991  314.645142    3292200.0   \n",
       "0  2019-01-02  124.029999  127.879997  123.000000  119.302582    4783200.0   \n",
       "0  2019-01-02   42.279999   43.200001   42.209999   40.057236   23833500.0   \n",
       "\n",
       "    tic      macd     rsi_30     cci_30      dx_30  turbulence  \n",
       "0  AAPL -2.019903  37.867349 -91.567852  42.250808  119.879167  \n",
       "0   AXP -3.426008  41.204982 -97.742269  26.709417  119.879167  \n",
       "0    BA -5.550592  47.010000 -21.712382  13.611972  119.879167  \n",
       "0   CAT -0.686759  48.229089  -5.091209   0.873482  119.879167  \n",
       "0  CSCO -0.952338  44.872557 -87.518839  29.529377  119.879167  "
      ]
     },
     "execution_count": 15,
     "metadata": {},
     "output_type": "execute_result"
    }
   ],
   "source": [
    "trade.head()"
   ]
  },
  {
   "cell_type": "code",
   "execution_count": 16,
   "metadata": {
    "id": "Q2zqII8rMIqn"
   },
   "outputs": [],
   "source": [
    "stock_dimension = len(train.tic.unique())\n",
    "state_space = 1 + 2*stock_dimension + len(config.TECHNICAL_INDICATORS_LIST)*stock_dimension"
   ]
  },
  {
   "cell_type": "code",
   "execution_count": 17,
   "metadata": {
    "id": "AWyp84Ltto19"
   },
   "outputs": [],
   "source": [
    "env_setup = EnvSetup(stock_dim = stock_dimension,\n",
    "                        state_space = state_space,\n",
    "                        hmax = 100,\n",
    "                        initial_amount = 1000000,\n",
    "                        transaction_cost_pct = 0.001)"
   ]
  },
  {
   "cell_type": "markdown",
   "metadata": {
    "id": "64EoqOrQjiVf"
   },
   "source": [
    "## Environment for Training\n",
    "\n"
   ]
  },
  {
   "cell_type": "code",
   "execution_count": 18,
   "metadata": {
    "id": "xwSvvPjutpqS"
   },
   "outputs": [],
   "source": [
    "env_train = env_setup.create_env_training(data = train,\n",
    "                                          env_class = StockEnvTrain)"
   ]
  },
  {
   "cell_type": "markdown",
   "metadata": {
    "id": "4QrezXm3jwu4"
   },
   "source": [
    "## Environment for Trading\n",
    "\n"
   ]
  },
  {
   "cell_type": "code",
   "execution_count": 19,
   "metadata": {
    "id": "5_2x5PwMtqoN"
   },
   "outputs": [],
   "source": [
    "env_trade, obs_trade = env_setup.create_env_trading(data = trade,\n",
    "                                         env_class = StockEnvTrade) "
   ]
  },
  {
   "cell_type": "markdown",
   "metadata": {
    "id": "HMNR5nHjh1iz"
   },
   "source": [
    "<a id='5'></a>\n",
    "# Part 6: Implement DRL Algorithms\n",
    "* The implementation of the DRL algorithms are based on **OpenAI Baselines** and **Stable Baselines**. Stable Baselines is a fork of OpenAI Baselines, with a major structural refactoring, and code cleanups.\n",
    "* FinRL library includes fine-tuned standard DRL algorithms, such as DQN, DDPG,\n",
    "Multi-Agent DDPG, PPO, SAC, A2C and TD3. We also allow users to\n",
    "design their own DRL algorithms by adapting these DRL algorithms."
   ]
  },
  {
   "cell_type": "code",
   "execution_count": 20,
   "metadata": {
    "id": "364PsqckttcQ"
   },
   "outputs": [],
   "source": [
    "agent = DRLAgent(env = env_train)"
   ]
  },
  {
   "cell_type": "markdown",
   "metadata": {
    "id": "YDmqOyF9h1iz"
   },
   "source": [
    "### Model Training: 5 models, A2C DDPG, PPO, TD3, SAC\n"
   ]
  },
  {
   "cell_type": "markdown",
   "metadata": {
    "id": "uijiWgkuh1jB"
   },
   "source": [
    "### Model 1: A2C\n"
   ]
  },
  {
   "cell_type": "code",
   "execution_count": 23,
   "metadata": {
    "colab": {
     "base_uri": "https://localhost:8080/",
     "height": 1000
    },
    "id": "tDLXWsDctyuz",
    "outputId": "8d885762-c74f-4bb0-ae8f-1dbece1937c5"
   },
   "outputs": [
    {
     "name": "stdout",
     "output_type": "stream",
     "text": [
      "==============Model Training===========\n",
      "begin_total_asset:1000000\n",
      "end_total_asset:3920854.00784976\n",
      "total_reward:2920854.00784976\n",
      "total_cost:  238152.28346924338\n",
      "total_trades:  70664\n",
      "Sharpe:  0.9597432726100686\n",
      "=================================\n",
      "begin_total_asset:1000000\n",
      "end_total_asset:3388434.5987193948\n",
      "total_reward:2388434.5987193948\n",
      "total_cost:  242611.1242939744\n",
      "total_trades:  70711\n",
      "Sharpe:  0.8264867372802345\n",
      "=================================\n",
      "begin_total_asset:1000000\n",
      "end_total_asset:5084844.332160384\n",
      "total_reward:4084844.3321603844\n",
      "total_cost:  234483.0974905279\n",
      "total_trades:  69394\n",
      "Sharpe:  1.068556926232368\n",
      "=================================\n",
      "begin_total_asset:1000000\n",
      "end_total_asset:3762291.3095127395\n",
      "total_reward:2762291.3095127395\n",
      "total_cost:  234202.67939603492\n",
      "total_trades:  68886\n",
      "Sharpe:  0.8440878703327115\n",
      "=================================\n",
      "begin_total_asset:1000000\n",
      "end_total_asset:4590313.49007566\n",
      "total_reward:3590313.49007566\n",
      "total_cost:  209504.04492001893\n",
      "total_trades:  66415\n",
      "Sharpe:  0.9818404846791987\n",
      "=================================\n",
      "begin_total_asset:1000000\n",
      "end_total_asset:4621024.388991796\n",
      "total_reward:3621024.3889917964\n",
      "total_cost:  209126.82063417652\n",
      "total_trades:  66307\n",
      "Sharpe:  0.9206857628229749\n",
      "=================================\n",
      "begin_total_asset:1000000\n",
      "end_total_asset:4299101.585619836\n",
      "total_reward:3299101.585619836\n",
      "total_cost:  205862.1151307955\n",
      "total_trades:  65719\n",
      "Sharpe:  0.9110239422445805\n",
      "=================================\n",
      "begin_total_asset:1000000\n",
      "end_total_asset:2783542.2527796654\n",
      "total_reward:1783542.2527796654\n",
      "total_cost:  208568.95059411132\n",
      "total_trades:  66924\n",
      "Sharpe:  0.6216218013731087\n",
      "=================================\n",
      "begin_total_asset:1000000\n",
      "end_total_asset:3277363.7122983937\n",
      "total_reward:2277363.7122983937\n",
      "total_cost:  225762.4600902372\n",
      "total_trades:  67806\n",
      "Sharpe:  0.746034518363034\n",
      "=================================\n",
      "begin_total_asset:1000000\n",
      "end_total_asset:3136496.3895826004\n",
      "total_reward:2136496.3895826004\n",
      "total_cost:  194798.7659435548\n",
      "total_trades:  64996\n",
      "Sharpe:  0.7312480595037125\n",
      "=================================\n",
      "begin_total_asset:1000000\n",
      "end_total_asset:3020288.196927363\n",
      "total_reward:2020288.196927363\n",
      "total_cost:  198423.51846840777\n",
      "total_trades:  65443\n",
      "Sharpe:  0.7114815230115742\n",
      "=================================\n",
      "begin_total_asset:1000000\n",
      "end_total_asset:3197656.7106633354\n",
      "total_reward:2197656.7106633354\n",
      "total_cost:  218477.7588073679\n",
      "total_trades:  66925\n",
      "Sharpe:  0.722037543109291\n",
      "=================================\n",
      "begin_total_asset:1000000\n",
      "end_total_asset:3370192.6740422864\n",
      "total_reward:2370192.6740422864\n",
      "total_cost:  227611.39254963966\n",
      "total_trades:  67015\n",
      "Sharpe:  0.777582736725127\n",
      "=================================\n",
      "begin_total_asset:1000000\n",
      "end_total_asset:3943591.5599436387\n",
      "total_reward:2943591.5599436387\n",
      "total_cost:  229691.5679409643\n",
      "total_trades:  66861\n",
      "Sharpe:  0.8721755008320998\n",
      "=================================\n",
      "begin_total_asset:1000000\n",
      "end_total_asset:2352513.0727547957\n",
      "total_reward:1352513.0727547957\n",
      "total_cost:  231726.59478789728\n",
      "total_trades:  67252\n",
      "Sharpe:  0.5627019127242776\n",
      "=================================\n",
      "begin_total_asset:1000000\n",
      "end_total_asset:2585571.2339903065\n",
      "total_reward:1585571.2339903065\n",
      "total_cost:  210106.7812098401\n",
      "total_trades:  66152\n",
      "Sharpe:  0.6346876761276385\n",
      "=================================\n",
      "begin_total_asset:1000000\n",
      "end_total_asset:2000848.729197798\n",
      "total_reward:1000848.7291977981\n",
      "total_cost:  117644.3616700177\n",
      "total_trades:  56865\n",
      "Sharpe:  0.46983393649822763\n",
      "=================================\n",
      "begin_total_asset:1000000\n",
      "end_total_asset:1880474.0572570371\n",
      "total_reward:880474.0572570371\n",
      "total_cost:  118320.09863333114\n",
      "total_trades:  57666\n",
      "Sharpe:  0.4467757450196198\n",
      "=================================\n",
      "begin_total_asset:1000000\n",
      "end_total_asset:1923417.6424112478\n",
      "total_reward:923417.6424112478\n",
      "total_cost:  82565.77353591916\n",
      "total_trades:  53623\n",
      "Sharpe:  0.4570490200488206\n",
      "=================================\n",
      "begin_total_asset:1000000\n",
      "end_total_asset:2448895.6663169283\n",
      "total_reward:1448895.6663169283\n",
      "total_cost:  137872.86904772464\n",
      "total_trades:  60140\n",
      "Sharpe:  0.6354954289700031\n",
      "=================================\n",
      "begin_total_asset:1000000\n",
      "end_total_asset:2593981.004379658\n",
      "total_reward:1593981.004379658\n",
      "total_cost:  165013.36465893008\n",
      "total_trades:  62721\n",
      "Sharpe:  0.6722871580298446\n",
      "=================================\n",
      "begin_total_asset:1000000\n",
      "end_total_asset:4149944.646482039\n",
      "total_reward:3149944.646482039\n",
      "total_cost:  144583.8153549629\n",
      "total_trades:  61573\n",
      "Sharpe:  0.9585062592059936\n",
      "=================================\n",
      "begin_total_asset:1000000\n",
      "end_total_asset:3518085.65763081\n",
      "total_reward:2518085.65763081\n",
      "total_cost:  88161.24048776989\n",
      "total_trades:  54599\n",
      "Sharpe:  0.785787704769626\n",
      "=================================\n",
      "begin_total_asset:1000000\n",
      "end_total_asset:3804753.646388075\n",
      "total_reward:2804753.646388075\n",
      "total_cost:  115691.49149862152\n",
      "total_trades:  56912\n",
      "Sharpe:  0.8620250564719001\n",
      "=================================\n",
      "begin_total_asset:1000000\n",
      "end_total_asset:3619857.1821861095\n",
      "total_reward:2619857.1821861095\n",
      "total_cost:  118779.39092447775\n",
      "total_trades:  55477\n",
      "Sharpe:  0.8757270907092641\n",
      "=================================\n",
      "begin_total_asset:1000000\n",
      "end_total_asset:3828256.2795896493\n",
      "total_reward:2828256.2795896493\n",
      "total_cost:  112862.0312274196\n",
      "total_trades:  55238\n",
      "Sharpe:  0.8479616493022512\n",
      "=================================\n",
      "begin_total_asset:1000000\n",
      "end_total_asset:3556206.5973082744\n",
      "total_reward:2556206.5973082744\n",
      "total_cost:  123560.33737131138\n",
      "total_trades:  57080\n",
      "Sharpe:  0.8611725384168999\n",
      "=================================\n",
      "begin_total_asset:1000000\n",
      "end_total_asset:3807059.7746108966\n",
      "total_reward:2807059.7746108966\n",
      "total_cost:  90144.97765634606\n",
      "total_trades:  53140\n",
      "Sharpe:  0.8961037385104091\n",
      "=================================\n",
      "begin_total_asset:1000000\n",
      "end_total_asset:3590351.9362351545\n",
      "total_reward:2590351.9362351545\n",
      "total_cost:  57693.462823664784\n",
      "total_trades:  47836\n",
      "Sharpe:  0.8625508456003991\n",
      "=================================\n",
      "begin_total_asset:1000000\n",
      "end_total_asset:3904361.120436923\n",
      "total_reward:2904361.120436923\n",
      "total_cost:  38595.96538665144\n",
      "total_trades:  45735\n",
      "Sharpe:  0.94372866358969\n",
      "=================================\n",
      "begin_total_asset:1000000\n",
      "end_total_asset:2865623.814221192\n",
      "total_reward:1865623.8142211922\n",
      "total_cost:  101534.54556671152\n",
      "total_trades:  52668\n",
      "Sharpe:  0.6770405303888741\n",
      "=================================\n",
      "begin_total_asset:1000000\n",
      "end_total_asset:2400343.6294054906\n",
      "total_reward:1400343.6294054906\n",
      "total_cost:  66876.19859385908\n",
      "total_trades:  50727\n",
      "Sharpe:  0.5773482531958444\n",
      "=================================\n",
      "begin_total_asset:1000000\n",
      "end_total_asset:3290409.4616010617\n",
      "total_reward:2290409.4616010617\n",
      "total_cost:  71227.37952848183\n",
      "total_trades:  52148\n",
      "Sharpe:  0.7955639977598543\n",
      "=================================\n",
      "begin_total_asset:1000000\n",
      "end_total_asset:2508253.26288651\n",
      "total_reward:1508253.2628865102\n",
      "total_cost:  62714.48518757215\n",
      "total_trades:  50991\n",
      "Sharpe:  0.608897388090066\n",
      "=================================\n",
      "begin_total_asset:1000000\n",
      "end_total_asset:3892275.013607011\n",
      "total_reward:2892275.013607011\n",
      "total_cost:  106996.44472948265\n",
      "total_trades:  54474\n",
      "Sharpe:  0.9090277456718131\n",
      "=================================\n",
      "begin_total_asset:1000000\n",
      "end_total_asset:4291028.6277175415\n",
      "total_reward:3291028.6277175415\n",
      "total_cost:  165177.61560934276\n",
      "total_trades:  61823\n",
      "Sharpe:  0.9709321852550215\n",
      "=================================\n",
      "begin_total_asset:1000000\n",
      "end_total_asset:3877221.4209346133\n",
      "total_reward:2877221.4209346133\n",
      "total_cost:  125987.31434726561\n",
      "total_trades:  58321\n",
      "Sharpe:  0.9058655118103394\n",
      "=================================\n",
      "begin_total_asset:1000000\n",
      "end_total_asset:3690202.8796985312\n",
      "total_reward:2690202.8796985312\n",
      "total_cost:  118323.93650768494\n",
      "total_trades:  58072\n",
      "Sharpe:  0.8775960826510225\n",
      "=================================\n",
      "begin_total_asset:1000000\n",
      "end_total_asset:4906846.949220094\n",
      "total_reward:3906846.949220094\n",
      "total_cost:  133345.44118994853\n",
      "total_trades:  60158\n",
      "Sharpe:  0.9863444406293422\n",
      "=================================\n",
      "begin_total_asset:1000000\n",
      "end_total_asset:5091052.739443571\n",
      "total_reward:4091052.7394435713\n",
      "total_cost:  120461.35868562073\n",
      "total_trades:  58190\n",
      "Sharpe:  1.0117212773916795\n",
      "=================================\n"
     ]
    },
    {
     "name": "stdout",
     "output_type": "stream",
     "text": [
      "begin_total_asset:1000000\n",
      "end_total_asset:5215598.455338946\n",
      "total_reward:4215598.455338946\n",
      "total_cost:  112664.38983377955\n",
      "total_trades:  57610\n",
      "Sharpe:  1.0102314161558357\n",
      "=================================\n",
      "begin_total_asset:1000000\n",
      "end_total_asset:4583605.525776027\n",
      "total_reward:3583605.525776027\n",
      "total_cost:  98002.180348184\n",
      "total_trades:  55896\n",
      "Sharpe:  0.9077710399478971\n",
      "=================================\n",
      "begin_total_asset:1000000\n",
      "end_total_asset:4919019.712527149\n",
      "total_reward:3919019.7125271494\n",
      "total_cost:  108302.18004770215\n",
      "total_trades:  57906\n",
      "Sharpe:  0.9530505482659651\n",
      "=================================\n",
      "begin_total_asset:1000000\n",
      "end_total_asset:5628560.367990674\n",
      "total_reward:4628560.367990674\n",
      "total_cost:  83073.79618560454\n",
      "total_trades:  55025\n",
      "Sharpe:  1.0286983366243234\n",
      "=================================\n",
      "begin_total_asset:1000000\n",
      "end_total_asset:3494192.101641433\n",
      "total_reward:2494192.101641433\n",
      "total_cost:  83608.08131673031\n",
      "total_trades:  55688\n",
      "Sharpe:  0.7849784479284302\n",
      "=================================\n",
      "begin_total_asset:1000000\n",
      "end_total_asset:4341751.641702899\n",
      "total_reward:3341751.641702899\n",
      "total_cost:  78035.00874689201\n",
      "total_trades:  53025\n",
      "Sharpe:  0.8772177140307815\n",
      "=================================\n",
      "begin_total_asset:1000000\n",
      "end_total_asset:4267800.262432708\n",
      "total_reward:3267800.2624327084\n",
      "total_cost:  107854.4120303471\n",
      "total_trades:  55705\n",
      "Sharpe:  0.8469639394258198\n",
      "=================================\n",
      "begin_total_asset:1000000\n",
      "end_total_asset:3320874.4505086634\n",
      "total_reward:2320874.4505086634\n",
      "total_cost:  88189.29564820197\n",
      "total_trades:  56311\n",
      "Sharpe:  0.781931328289877\n",
      "=================================\n",
      "begin_total_asset:1000000\n",
      "end_total_asset:4345152.184299314\n",
      "total_reward:3345152.1842993144\n",
      "total_cost:  85147.17922293924\n",
      "total_trades:  57047\n",
      "Sharpe:  0.9616658448204252\n",
      "=================================\n",
      "begin_total_asset:1000000\n",
      "end_total_asset:5263229.545027884\n",
      "total_reward:4263229.545027884\n",
      "total_cost:  71037.49483519957\n",
      "total_trades:  53421\n",
      "Sharpe:  1.0022217396132127\n",
      "=================================\n",
      "begin_total_asset:1000000\n",
      "end_total_asset:4720680.874677796\n",
      "total_reward:3720680.874677796\n",
      "total_cost:  57195.328318204614\n",
      "total_trades:  52145\n",
      "Sharpe:  0.9382513886629577\n",
      "=================================\n",
      "begin_total_asset:1000000\n",
      "end_total_asset:4091917.8111584745\n",
      "total_reward:3091917.8111584745\n",
      "total_cost:  42301.89059475822\n",
      "total_trades:  50081\n",
      "Sharpe:  0.8999091030460988\n",
      "=================================\n",
      "begin_total_asset:1000000\n",
      "end_total_asset:4802303.5825386755\n",
      "total_reward:3802303.5825386755\n",
      "total_cost:  44689.28693848481\n",
      "total_trades:  49807\n",
      "Sharpe:  0.979662827117329\n",
      "=================================\n",
      "begin_total_asset:1000000\n",
      "end_total_asset:4684484.196460702\n",
      "total_reward:3684484.1964607025\n",
      "total_cost:  40927.75009256393\n",
      "total_trades:  49895\n",
      "Sharpe:  0.9871550104921435\n",
      "=================================\n",
      "begin_total_asset:1000000\n",
      "end_total_asset:4603946.343160351\n",
      "total_reward:3603946.343160351\n",
      "total_cost:  33370.88494687446\n",
      "total_trades:  49903\n",
      "Sharpe:  0.9870255460254398\n",
      "=================================\n",
      "begin_total_asset:1000000\n",
      "end_total_asset:5410574.172105843\n",
      "total_reward:4410574.172105843\n",
      "total_cost:  29065.641556231454\n",
      "total_trades:  48712\n",
      "Sharpe:  1.0421656060538824\n",
      "=================================\n",
      "begin_total_asset:1000000\n",
      "end_total_asset:5335886.372288712\n",
      "total_reward:4335886.372288712\n",
      "total_cost:  28842.881121560953\n",
      "total_trades:  48280\n",
      "Sharpe:  1.0245181152660743\n",
      "=================================\n",
      "begin_total_asset:1000000\n",
      "end_total_asset:5399313.2751388205\n",
      "total_reward:4399313.2751388205\n",
      "total_cost:  30324.089102807415\n",
      "total_trades:  48619\n",
      "Sharpe:  1.0136343152670613\n",
      "=================================\n",
      "begin_total_asset:1000000\n",
      "end_total_asset:5734948.732847643\n",
      "total_reward:4734948.732847643\n",
      "total_cost:  27690.59477378634\n",
      "total_trades:  49183\n",
      "Sharpe:  1.0351846964822708\n",
      "=================================\n",
      "Training time (A2C):  7.603984622160594  minutes\n"
     ]
    }
   ],
   "source": [
    "print(\"==============Model Training===========\")\n",
    "now = datetime.datetime.now().strftime('%Y%m%d-%Hh%M')\n",
    "a2c_params_tuning = {'n_steps':5, \n",
    "\t\t\t  'ent_coef':0.005, \n",
    "\t\t\t  'learning_rate':0.0002,\n",
    "\t\t\t  'verbose':0,\n",
    "\t\t\t  'timesteps':150000}\n",
    "model_a2c = agent.train_A2C(model_name = \"A2C_{}\".format(now), model_params = a2c_params_tuning, save=False)"
   ]
  },
  {
   "cell_type": "markdown",
   "metadata": {
    "id": "MRiOtrywfAo1"
   },
   "source": [
    "### Model 2: DDPG"
   ]
  },
  {
   "cell_type": "code",
   "execution_count": null,
   "metadata": {
    "colab": {
     "base_uri": "https://localhost:8080/"
    },
    "id": "tCDa78rqfO_a",
    "outputId": "4f68dc4d-6034-4db8-9466-700c9108c379"
   },
   "outputs": [],
   "source": [
    "print(\"==============Model Training===========\")\n",
    "now = datetime.datetime.now().strftime('%Y%m%d-%Hh%M')\n",
    "ddpg_params_tuning = {\n",
    "                     'batch_size': 128,\n",
    "\t\t\t               'buffer_size':100000, \n",
    "\t\t\t               'verbose':0,\n",
    "\t\t\t               'timesteps':50000}\n",
    "model_ddpg = agent.train_DDPG(model_name = \"DDPG_{}\".format(now), model_params = ddpg_params_tuning)"
   ]
  },
  {
   "cell_type": "markdown",
   "metadata": {
    "id": "_gDkU-j-fCmZ"
   },
   "source": [
    "### Model 3: PPO"
   ]
  },
  {
   "cell_type": "code",
   "execution_count": null,
   "metadata": {
    "colab": {
     "base_uri": "https://localhost:8080/"
    },
    "id": "AXo1pwzHfUci",
    "outputId": "e47fa2af-5e4d-4cea-f5e6-552c9387bddb"
   },
   "outputs": [],
   "source": [
    "print(\"==============Model Training===========\")\n",
    "now = datetime.datetime.now().strftime('%Y%m%d-%Hh%M')\n",
    "ppo_params_tuning = {'n_steps':128, \n",
    "                     'batch_size': 64,\n",
    "\t\t\t               'ent_coef':0.005, \n",
    "\t\t\t               'learning_rate':0.00025,\n",
    "\t\t\t              'verbose':0,\n",
    "\t\t\t              'timesteps':50000}\n",
    "model_ppo = agent.train_PPO(model_name = \"PPO_{}\".format(now), model_params = ppo_params_tuning)"
   ]
  },
  {
   "cell_type": "markdown",
   "metadata": {
    "id": "3Zpv4S0-fDBv"
   },
   "source": [
    "### Model 4: TD3"
   ]
  },
  {
   "cell_type": "code",
   "execution_count": null,
   "metadata": {
    "colab": {
     "base_uri": "https://localhost:8080/"
    },
    "id": "0S5WIHJffWdP",
    "outputId": "750ba07b-d0b1-483c-c654-95fefe5562a4"
   },
   "outputs": [],
   "source": [
    "print(\"==============Model Training===========\")\n",
    "now = datetime.datetime.now().strftime('%Y%m%d-%Hh%M')\n",
    "td3_params_tuning = {\n",
    "                     'batch_size': 128,\n",
    "\t\t\t               'buffer_size':200000, \n",
    "                     'learning_rate': 0.0002,\n",
    "\t\t\t               'verbose':0,\n",
    "\t\t\t               'timesteps':50000}\n",
    "model_td3 = agent.train_TD3(model_name = \"TD3_{}\".format(now), model_params = td3_params_tuning)"
   ]
  },
  {
   "cell_type": "markdown",
   "metadata": {
    "id": "Dr49PotrfG01"
   },
   "source": [
    "### Model 5: SAC"
   ]
  },
  {
   "cell_type": "code",
   "execution_count": null,
   "metadata": {
    "colab": {
     "base_uri": "https://localhost:8080/"
    },
    "id": "jr6sX5pCfkVo",
    "outputId": "10f3c493-2a01-4fea-ac55-592247e35434"
   },
   "outputs": [],
   "source": [
    "env_train = env_setup.create_env_training(data = train,\n",
    "                                          env_class = StockEnvTrain)\n",
    "agent = DRLAgent(env = env_train)\n",
    "print(\"==============Model Training===========\")\n",
    "now = datetime.datetime.now().strftime('%Y%m%d-%Hh%M')\n",
    "sac_params_tuning={\n",
    "  'batch_size': 128,\n",
    " 'buffer_size': 100000,\n",
    "  'ent_coef':'auto_0.1',\n",
    " 'learning_rate': 0.0001,\n",
    " 'learning_starts':200,\n",
    " 'timesteps': 40000,\n",
    " 'verbose': 0}\n",
    "model_sac = agent.train_SAC(model_name = \"SAC_{}\".format(now), model_params = sac_params_tuning)"
   ]
  },
  {
   "cell_type": "markdown",
   "metadata": {
    "id": "f2wZgkQXh1jE"
   },
   "source": [
    "## Trading\n",
    "Assume that we have $1,000,000 initial capital at 2019-01-01. We use the DDPG model to trade Dow jones 30 stocks."
   ]
  },
  {
   "cell_type": "markdown",
   "metadata": {
    "id": "bEv5KGC8h1jE"
   },
   "source": [
    "### Set turbulence threshold\n",
    "Set the turbulence threshold to be the 99% quantile of insample turbulence data, if current turbulence index is greater than the threshold, then we assume that the current market is volatile"
   ]
  },
  {
   "cell_type": "code",
   "execution_count": null,
   "metadata": {
    "id": "efwBi84ch1jE"
   },
   "outputs": [],
   "source": [
    "data_turbulence = df[(df.date<'2019-01-01') & (df.date>='2009-01-01')]\n",
    "insample_turbulence = data_turbulence.drop_duplicates(subset=['date'])"
   ]
  },
  {
   "cell_type": "code",
   "execution_count": null,
   "metadata": {
    "colab": {
     "base_uri": "https://localhost:8080/"
    },
    "id": "VHZMBpSqh1jG",
    "outputId": "9ab772a0-2905-48da-82ac-1bd0ee9bab63"
   },
   "outputs": [],
   "source": [
    "insample_turbulence.turbulence.describe()"
   ]
  },
  {
   "cell_type": "code",
   "execution_count": null,
   "metadata": {
    "id": "yuwDPkV9h1jL"
   },
   "outputs": [],
   "source": [
    "turbulence_threshold = np.quantile(insample_turbulence.turbulence.values,1)"
   ]
  },
  {
   "cell_type": "code",
   "execution_count": null,
   "metadata": {
    "colab": {
     "base_uri": "https://localhost:8080/"
    },
    "id": "wwoz_7VSh1jO",
    "outputId": "677d9b2e-9b5f-4e84-b42a-e0e5f29371ad"
   },
   "outputs": [],
   "source": [
    "turbulence_threshold"
   ]
  },
  {
   "cell_type": "markdown",
   "metadata": {
    "id": "U5mmgQF_h1jQ"
   },
   "source": [
    "### Trade\n",
    "\n",
    "DRL model needs to update periodically in order to take full advantage of the data, ideally we need to retrain our model yearly, quarterly, or monthly. We also need to tune the parameters along the way, in this notebook I only use the in-sample data from 2009-01 to 2018-12 to tune the parameters once, so there is some alpha decay here as the length of trade date extends. \n",
    "\n",
    "Numerous hyperparameters – e.g. the learning rate, the total number of samples to train on – influence the learning process and are usually determined by testing some variations."
   ]
  },
  {
   "cell_type": "code",
   "execution_count": null,
   "metadata": {
    "colab": {
     "base_uri": "https://localhost:8080/"
    },
    "id": "eLOnL5eYh1jR",
    "outputId": "8ec74736-cf55-4d88-d57c-694c135e3159"
   },
   "outputs": [],
   "source": [
    "\n"
   ]
  },
  {
   "cell_type": "code",
   "execution_count": null,
   "metadata": {
    "colab": {
     "base_uri": "https://localhost:8080/"
    },
    "id": "ERxw3KqLkcP4",
    "outputId": "0a0652e7-4d95-4a15-aac9-4789dd5abf8c"
   },
   "outputs": [],
   "source": [
    "df_account_value.shape"
   ]
  },
  {
   "cell_type": "code",
   "execution_count": null,
   "metadata": {
    "colab": {
     "base_uri": "https://localhost:8080/",
     "height": 199
    },
    "id": "2yRkNguY5yvp",
    "outputId": "e668cb5e-d63f-4c2b-a0a0-c2a72b4ac47d"
   },
   "outputs": [],
   "source": [
    "df_account_value.head()"
   ]
  },
  {
   "cell_type": "markdown",
   "metadata": {
    "id": "W6vvNSC6h1jZ"
   },
   "source": [
    "<a id='6'></a>\n",
    "# Part 7: Backtest Our Strategy\n",
    "Backtesting plays a key role in evaluating the performance of a trading strategy. Automated backtesting tool is preferred because it reduces the human error. We usually use the Quantopian pyfolio package to backtest our trading strategies. It is easy to use and consists of various individual plots that provide a comprehensive image of the performance of a trading strategy."
   ]
  },
  {
   "cell_type": "markdown",
   "metadata": {
    "id": "Lr2zX7ZxNyFQ"
   },
   "source": [
    "<a id='6.1'></a>\n",
    "## 7.1 BackTestStats\n",
    "pass in df_account_value, this information is stored in env class\n"
   ]
  },
  {
   "cell_type": "code",
   "execution_count": null,
   "metadata": {
    "colab": {
     "base_uri": "https://localhost:8080/"
    },
    "id": "Nzkr9yv-AdV_",
    "outputId": "90bea8f7-fa0e-43fe-8e87-eeda1cee4724"
   },
   "outputs": [],
   "source": [
    "print(\"==============Get Backtest Results===========\")\n",
    "perf_stats_all = BackTestStats(account_value=df_account_value)\n",
    "perf_stats_all = pd.DataFrame(perf_stats_all)\n",
    "perf_stats_all.to_csv(\"./\"+config.RESULTS_DIR+\"/perf_stats_all_\"+now+'.csv')"
   ]
  },
  {
   "cell_type": "markdown",
   "metadata": {
    "id": "9U6Suru3h1jc"
   },
   "source": [
    "<a id='6.2'></a>\n",
    "## 7.2 BackTestPlot"
   ]
  },
  {
   "cell_type": "code",
   "execution_count": null,
   "metadata": {
    "colab": {
     "base_uri": "https://localhost:8080/",
     "height": 1000
    },
    "id": "lKRGftSS7pNM",
    "outputId": "d7613aac-003e-461d-98f4-2b358105a9e9"
   },
   "outputs": [],
   "source": [
    "print(\"==============Compare to DJIA===========\")\n",
    "%matplotlib inline\n",
    "# S&P 500: ^GSPC\n",
    "# Dow Jones Index: ^DJI\n",
    "# NASDAQ 100: ^NDX\n",
    "BackTestPlot(df_account_value, \n",
    "             baseline_ticker = '^DJI', \n",
    "             baseline_start = '2019-01-01',\n",
    "             baseline_end = '2020-12-01')"
   ]
  },
  {
   "cell_type": "markdown",
   "metadata": {
    "id": "SlLT9_5WN478"
   },
   "source": [
    "<a id='6.3'></a>\n",
    "## 7.3 Baseline Stats"
   ]
  },
  {
   "cell_type": "code",
   "execution_count": null,
   "metadata": {
    "colab": {
     "base_uri": "https://localhost:8080/"
    },
    "id": "YktexHcqh1jc",
    "outputId": "25a45cd2-f155-40ed-d40a-639683d229b4"
   },
   "outputs": [],
   "source": [
    "print(\"==============Get Baseline Stats===========\")\n",
    "baesline_perf_stats=BaselineStats('^DJI',\n",
    "                                  baseline_start = '2019-01-01',\n",
    "                                  baseline_end = '2020-12-01')"
   ]
  },
  {
   "cell_type": "code",
   "execution_count": null,
   "metadata": {
    "id": "A6W2J57ch1j9"
   },
   "outputs": [],
   "source": []
  }
 ],
 "metadata": {
  "colab": {
   "collapsed_sections": [
    "uijiWgkuh1jB",
    "MRiOtrywfAo1",
    "3Zpv4S0-fDBv"
   ],
   "include_colab_link": true,
   "name": "FinRL_multiple_stock_trading.ipynb",
   "provenance": [],
   "toc_visible": true
  },
  "kernelspec": {
   "display_name": "Python 3",
   "language": "python",
   "name": "python3"
  },
  "language_info": {
   "codemirror_mode": {
    "name": "ipython",
    "version": 3
   },
   "file_extension": ".py",
   "mimetype": "text/x-python",
   "name": "python",
   "nbconvert_exporter": "python",
   "pygments_lexer": "ipython3",
   "version": "3.6.12"
  }
 },
 "nbformat": 4,
 "nbformat_minor": 1
}
